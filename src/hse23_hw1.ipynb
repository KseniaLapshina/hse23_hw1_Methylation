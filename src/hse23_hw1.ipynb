{
  "nbformat": 4,
  "nbformat_minor": 0,
  "metadata": {
    "colab": {
      "provenance": []
    },
    "kernelspec": {
      "name": "python3",
      "display_name": "Python 3"
    },
    "language_info": {
      "name": "python"
    }
  },
  "cells": [
    {
      "cell_type": "markdown",
      "source": [
        "### Ссылка на диск с картированными чтениями"
      ],
      "metadata": {
        "id": "qzVRvY81sSUi"
      }
    },
    {
      "cell_type": "markdown",
      "source": [
        "\n",
        "| | SRA accession  | Stage    |\n",
        "|---:|:-------------|:-----------|\n",
        "| 1 | SRR5836473  | 8 cell       |\n",
        "| 2 | SRR3824222 | Epiblast    |\n",
        "| 3 | SRR5836475  | ICM       |"
      ],
      "metadata": {
        "id": "d0f6QFwQsdza"
      }
    },
    {
      "cell_type": "markdown",
      "source": [
        "[Bam-файлы и отчеты](https://drive.google.com/drive/folders/1athn52a93obOwfuHynDCRPRhjAPB80aO?usp=sharing)"
      ],
      "metadata": {
        "id": "QAzOZDDpshs-"
      }
    },
    {
      "cell_type": "markdown",
      "source": [
        "### Установка FastQC"
      ],
      "metadata": {
        "id": "0qsOARWBsoYb"
      }
    },
    {
      "cell_type": "code",
      "execution_count": null,
      "metadata": {
        "colab": {
          "base_uri": "https://localhost:8080/"
        },
        "id": "FyS3CiPsrZ2-",
        "outputId": "c0ad30de-dab2-4b96-9159-e504c044a8e8"
      },
      "outputs": [
        {
          "output_type": "stream",
          "name": "stdout",
          "text": [
            "--2023-02-05 18:22:30--  https://www.bioinformatics.babraham.ac.uk/projects/fastqc/fastqc_v0.11.9.zip\n",
            "Resolving www.bioinformatics.babraham.ac.uk (www.bioinformatics.babraham.ac.uk)... 149.155.133.4\n",
            "Connecting to www.bioinformatics.babraham.ac.uk (www.bioinformatics.babraham.ac.uk)|149.155.133.4|:443... connected.\n",
            "HTTP request sent, awaiting response... 200 OK\n",
            "Length: 10249221 (9.8M) [application/zip]\n",
            "Saving to: ‘fastqc_v0.11.9.zip’\n",
            "\n",
            "fastqc_v0.11.9.zip  100%[===================>]   9.77M  3.38MB/s    in 2.9s    \n",
            "\n",
            "2023-02-05 18:22:34 (3.38 MB/s) - ‘fastqc_v0.11.9.zip’ saved [10249221/10249221]\n",
            "\n",
            "Archive:  fastqc_v0.11.9.zip\n",
            "  inflating: FastQC/cisd-jhdf5.jar   \n",
            "   creating: FastQC/Configuration/\n",
            "  inflating: FastQC/Configuration/adapter_list.txt  \n",
            "  inflating: FastQC/Configuration/contaminant_list.txt  \n",
            "  inflating: FastQC/Configuration/limits.txt  \n",
            "  inflating: FastQC/fastqc           \n",
            "  inflating: FastQC/fastqc_icon.ico  \n",
            "   creating: FastQC/Help/\n",
            "   creating: FastQC/Help/1 Introduction/\n",
            "   creating: FastQC/Help/1 Introduction/.svn/\n",
            "  inflating: FastQC/Help/1 Introduction/.svn/entries  \n",
            "   creating: FastQC/Help/1 Introduction/.svn/props/\n",
            "   creating: FastQC/Help/1 Introduction/.svn/text-base/\n",
            "  inflating: FastQC/Help/1 Introduction/.svn/text-base/1.1 What is FastQC.html.svn-base  \n",
            "   creating: FastQC/Help/1 Introduction/.svn/tmp/\n",
            "   creating: FastQC/Help/1 Introduction/.svn/tmp/props/\n",
            "  inflating: FastQC/Help/1 Introduction/1.1 What is FastQC.html  \n",
            "   creating: FastQC/Help/2 Basic Operations/\n",
            "   creating: FastQC/Help/2 Basic Operations/.svn/\n",
            "  inflating: FastQC/Help/2 Basic Operations/.svn/entries  \n",
            "   creating: FastQC/Help/2 Basic Operations/.svn/props/\n",
            "   creating: FastQC/Help/2 Basic Operations/.svn/text-base/\n",
            "  inflating: FastQC/Help/2 Basic Operations/.svn/text-base/2.1 Opening a sequence file.html.svn-base  \n",
            "  inflating: FastQC/Help/2 Basic Operations/.svn/text-base/2.2 Evaluating Results.html.svn-base  \n",
            "  inflating: FastQC/Help/2 Basic Operations/.svn/text-base/2.3 Saving a Report.html.svn-base  \n",
            "   creating: FastQC/Help/2 Basic Operations/.svn/tmp/\n",
            "   creating: FastQC/Help/2 Basic Operations/.svn/tmp/props/\n",
            "  inflating: FastQC/Help/2 Basic Operations/2.1 Opening a sequence file.html  \n",
            "  inflating: FastQC/Help/2 Basic Operations/2.2 Evaluating Results.html  \n",
            "  inflating: FastQC/Help/2 Basic Operations/2.3 Saving a Report.html  \n",
            "   creating: FastQC/Help/3 Analysis Modules/\n",
            "   creating: FastQC/Help/3 Analysis Modules/.svn/\n",
            "  inflating: FastQC/Help/3 Analysis Modules/.svn/entries  \n",
            "   creating: FastQC/Help/3 Analysis Modules/.svn/prop-base/\n",
            " extracting: FastQC/Help/3 Analysis Modules/.svn/prop-base/duplication_levels.png.svn-base  \n",
            "  inflating: FastQC/Help/3 Analysis Modules/.svn/prop-base/kmer_profiles.png.svn-base  \n",
            " extracting: FastQC/Help/3 Analysis Modules/.svn/prop-base/per_base_gc_content.png.svn-base  \n",
            " extracting: FastQC/Help/3 Analysis Modules/.svn/prop-base/per_base_n_content.png.svn-base  \n",
            " extracting: FastQC/Help/3 Analysis Modules/.svn/prop-base/per_base_quality.png.svn-base  \n",
            " extracting: FastQC/Help/3 Analysis Modules/.svn/prop-base/per_base_sequence_content.png.svn-base  \n",
            " extracting: FastQC/Help/3 Analysis Modules/.svn/prop-base/per_sequence_gc_content.png.svn-base  \n",
            " extracting: FastQC/Help/3 Analysis Modules/.svn/prop-base/per_sequence_quality.png.svn-base  \n",
            " extracting: FastQC/Help/3 Analysis Modules/.svn/prop-base/per_tile_quality.png.svn-base  \n",
            " extracting: FastQC/Help/3 Analysis Modules/.svn/prop-base/sequence_length_distribution.png.svn-base  \n",
            "   creating: FastQC/Help/3 Analysis Modules/.svn/props/\n",
            "   creating: FastQC/Help/3 Analysis Modules/.svn/text-base/\n",
            "  inflating: FastQC/Help/3 Analysis Modules/.svn/text-base/1 Basic Statistics.html.svn-base  \n",
            "  inflating: FastQC/Help/3 Analysis Modules/.svn/text-base/10 Adapter Content.html.svn-base  \n",
            "  inflating: FastQC/Help/3 Analysis Modules/.svn/text-base/11 Kmer Content.html.svn-base  \n",
            "  inflating: FastQC/Help/3 Analysis Modules/.svn/text-base/12 Per Tile Sequence Quality.html.svn-base  \n",
            "  inflating: FastQC/Help/3 Analysis Modules/.svn/text-base/2 Per Base Sequence Quality.html.svn-base  \n",
            "  inflating: FastQC/Help/3 Analysis Modules/.svn/text-base/3 Per Sequence Quality Scores.html.svn-base  \n",
            "  inflating: FastQC/Help/3 Analysis Modules/.svn/text-base/4 Per Base Sequence Content.html.svn-base  \n",
            "  inflating: FastQC/Help/3 Analysis Modules/.svn/text-base/5 Per Sequence GC Content.html.svn-base  \n",
            "  inflating: FastQC/Help/3 Analysis Modules/.svn/text-base/6 Per Base N Content.html.svn-base  \n",
            "  inflating: FastQC/Help/3 Analysis Modules/.svn/text-base/7 Sequence Length Distribution.html.svn-base  \n",
            "  inflating: FastQC/Help/3 Analysis Modules/.svn/text-base/8 Duplicate Sequences.html.svn-base  \n",
            "  inflating: FastQC/Help/3 Analysis Modules/.svn/text-base/9 Overrepresented Sequences.html.svn-base  \n",
            "  inflating: FastQC/Help/3 Analysis Modules/.svn/text-base/duplication_levels.png.svn-base  \n",
            "  inflating: FastQC/Help/3 Analysis Modules/.svn/text-base/kmer_profiles.png.svn-base  \n",
            "  inflating: FastQC/Help/3 Analysis Modules/.svn/text-base/per_base_gc_content.png.svn-base  \n",
            "  inflating: FastQC/Help/3 Analysis Modules/.svn/text-base/per_base_n_content.png.svn-base  \n",
            "  inflating: FastQC/Help/3 Analysis Modules/.svn/text-base/per_base_quality.png.svn-base  \n",
            "  inflating: FastQC/Help/3 Analysis Modules/.svn/text-base/per_base_sequence_content.png.svn-base  \n",
            "  inflating: FastQC/Help/3 Analysis Modules/.svn/text-base/per_sequence_gc_content.png.svn-base  \n",
            "  inflating: FastQC/Help/3 Analysis Modules/.svn/text-base/per_sequence_quality.png.svn-base  \n",
            "  inflating: FastQC/Help/3 Analysis Modules/.svn/text-base/per_tile_quality.png.svn-base  \n",
            "  inflating: FastQC/Help/3 Analysis Modules/.svn/text-base/sequence_length_distribution.png.svn-base  \n",
            "   creating: FastQC/Help/3 Analysis Modules/.svn/tmp/\n",
            "   creating: FastQC/Help/3 Analysis Modules/.svn/tmp/props/\n",
            "  inflating: FastQC/Help/3 Analysis Modules/1 Basic Statistics.html  \n",
            "  inflating: FastQC/Help/3 Analysis Modules/10 Adapter Content.html  \n",
            "  inflating: FastQC/Help/3 Analysis Modules/11 Kmer Content.html  \n",
            "  inflating: FastQC/Help/3 Analysis Modules/12 Per Tile Sequence Quality.html  \n",
            "  inflating: FastQC/Help/3 Analysis Modules/2 Per Base Sequence Quality.html  \n",
            "  inflating: FastQC/Help/3 Analysis Modules/3 Per Sequence Quality Scores.html  \n",
            "  inflating: FastQC/Help/3 Analysis Modules/4 Per Base Sequence Content.html  \n",
            "  inflating: FastQC/Help/3 Analysis Modules/5 Per Sequence GC Content.html  \n",
            "  inflating: FastQC/Help/3 Analysis Modules/6 Per Base N Content.html  \n",
            "  inflating: FastQC/Help/3 Analysis Modules/7 Sequence Length Distribution.html  \n",
            "  inflating: FastQC/Help/3 Analysis Modules/8 Duplicate Sequences.html  \n",
            "  inflating: FastQC/Help/3 Analysis Modules/9 Overrepresented Sequences.html  \n",
            "  inflating: FastQC/Help/3 Analysis Modules/duplication_levels.png  \n",
            "  inflating: FastQC/Help/3 Analysis Modules/kmer_profiles.png  \n",
            "  inflating: FastQC/Help/3 Analysis Modules/per_base_gc_content.png  \n",
            "  inflating: FastQC/Help/3 Analysis Modules/per_base_n_content.png  \n",
            "  inflating: FastQC/Help/3 Analysis Modules/per_base_quality.png  \n",
            "  inflating: FastQC/Help/3 Analysis Modules/per_base_sequence_content.png  \n",
            "  inflating: FastQC/Help/3 Analysis Modules/per_sequence_gc_content.png  \n",
            "  inflating: FastQC/Help/3 Analysis Modules/per_sequence_quality.png  \n",
            "  inflating: FastQC/Help/3 Analysis Modules/per_tile_quality.png  \n",
            "  inflating: FastQC/Help/3 Analysis Modules/sequence_length_distribution.png  \n",
            "  inflating: FastQC/INSTALL.txt      \n",
            "  inflating: FastQC/jbzip2-0.9.jar   \n",
            "  inflating: FastQC/LICENSE          \n",
            "  inflating: FastQC/LICENSE.txt      \n",
            "  inflating: FastQC/LICENSE_JHDF5.txt  \n",
            "   creating: FastQC/net/\n",
            "   creating: FastQC/net/sourceforge/\n",
            "   creating: FastQC/net/sourceforge/iharder/\n",
            "   creating: FastQC/net/sourceforge/iharder/base64/\n",
            "  inflating: FastQC/net/sourceforge/iharder/base64/Base64$1.class  \n",
            "  inflating: FastQC/net/sourceforge/iharder/base64/Base64$InputStream.class  \n",
            "  inflating: FastQC/net/sourceforge/iharder/base64/Base64$OutputStream.class  \n",
            "  inflating: FastQC/net/sourceforge/iharder/base64/Base64.class  \n",
            "   creating: FastQC/org/\n",
            "   creating: FastQC/org/apache/\n",
            "   creating: FastQC/org/apache/commons/\n",
            "   creating: FastQC/org/apache/commons/math3/\n",
            "   creating: FastQC/org/apache/commons/math3/analysis/\n",
            "   creating: FastQC/org/apache/commons/math3/analysis/solvers/\n",
            "  inflating: FastQC/org/apache/commons/math3/analysis/solvers/AbstractUnivariateSolver.class  \n",
            "  inflating: FastQC/org/apache/commons/math3/analysis/solvers/AllowedSolution.class  \n",
            "  inflating: FastQC/org/apache/commons/math3/analysis/solvers/BaseAbstractUnivariateSolver.class  \n",
            "  inflating: FastQC/org/apache/commons/math3/analysis/solvers/BaseUnivariateSolver.class  \n",
            "  inflating: FastQC/org/apache/commons/math3/analysis/solvers/BracketedUnivariateSolver.class  \n",
            "  inflating: FastQC/org/apache/commons/math3/analysis/solvers/BrentSolver.class  \n",
            "  inflating: FastQC/org/apache/commons/math3/analysis/solvers/UnivariateSolver.class  \n",
            "  inflating: FastQC/org/apache/commons/math3/analysis/solvers/UnivariateSolverUtils.class  \n",
            "  inflating: FastQC/org/apache/commons/math3/analysis/UnivariateFunction.class  \n",
            "   creating: FastQC/org/apache/commons/math3/distribution/\n",
            "  inflating: FastQC/org/apache/commons/math3/distribution/AbstractIntegerDistribution.class  \n",
            "  inflating: FastQC/org/apache/commons/math3/distribution/AbstractRealDistribution$1.class  \n",
            "  inflating: FastQC/org/apache/commons/math3/distribution/AbstractRealDistribution.class  \n",
            "  inflating: FastQC/org/apache/commons/math3/distribution/BetaDistribution.class  \n",
            "  inflating: FastQC/org/apache/commons/math3/distribution/BinomialDistribution.class  \n",
            "  inflating: FastQC/org/apache/commons/math3/distribution/CauchyDistribution.class  \n",
            "  inflating: FastQC/org/apache/commons/math3/distribution/ChiSquaredDistribution.class  \n",
            "  inflating: FastQC/org/apache/commons/math3/distribution/FDistribution.class  \n",
            "  inflating: FastQC/org/apache/commons/math3/distribution/GammaDistribution.class  \n",
            "  inflating: FastQC/org/apache/commons/math3/distribution/HypergeometricDistribution.class  \n",
            "  inflating: FastQC/org/apache/commons/math3/distribution/IntegerDistribution.class  \n",
            "  inflating: FastQC/org/apache/commons/math3/distribution/NormalDistribution.class  \n",
            "  inflating: FastQC/org/apache/commons/math3/distribution/PascalDistribution.class  \n",
            "  inflating: FastQC/org/apache/commons/math3/distribution/PoissonDistribution.class  \n",
            "  inflating: FastQC/org/apache/commons/math3/distribution/RealDistribution.class  \n",
            "  inflating: FastQC/org/apache/commons/math3/distribution/SaddlePointExpansion.class  \n",
            "  inflating: FastQC/org/apache/commons/math3/distribution/TDistribution.class  \n",
            "  inflating: FastQC/org/apache/commons/math3/distribution/WeibullDistribution.class  \n",
            "  inflating: FastQC/org/apache/commons/math3/distribution/ZipfDistribution.class  \n",
            "   creating: FastQC/org/apache/commons/math3/exception/\n",
            "  inflating: FastQC/org/apache/commons/math3/exception/ConvergenceException.class  \n",
            "  inflating: FastQC/org/apache/commons/math3/exception/DimensionMismatchException.class  \n",
            "  inflating: FastQC/org/apache/commons/math3/exception/MathArithmeticException.class  \n",
            "  inflating: FastQC/org/apache/commons/math3/exception/MathIllegalArgumentException.class  \n",
            "  inflating: FastQC/org/apache/commons/math3/exception/MathIllegalNumberException.class  \n",
            "  inflating: FastQC/org/apache/commons/math3/exception/MathIllegalStateException.class  \n",
            "  inflating: FastQC/org/apache/commons/math3/exception/MathInternalError.class  \n",
            "  inflating: FastQC/org/apache/commons/math3/exception/MaxCountExceededException.class  \n",
            "  inflating: FastQC/org/apache/commons/math3/exception/NoBracketingException.class  \n",
            "  inflating: FastQC/org/apache/commons/math3/exception/NotFiniteNumberException.class  \n",
            "  inflating: FastQC/org/apache/commons/math3/exception/NotPositiveException.class  \n",
            "  inflating: FastQC/org/apache/commons/math3/exception/NotStrictlyPositiveException.class  \n",
            "  inflating: FastQC/org/apache/commons/math3/exception/NullArgumentException.class  \n",
            "  inflating: FastQC/org/apache/commons/math3/exception/NumberIsTooLargeException.class  \n",
            "  inflating: FastQC/org/apache/commons/math3/exception/NumberIsTooSmallException.class  \n",
            "  inflating: FastQC/org/apache/commons/math3/exception/OutOfRangeException.class  \n",
            "  inflating: FastQC/org/apache/commons/math3/exception/TooManyEvaluationsException.class  \n",
            "   creating: FastQC/org/apache/commons/math3/exception/util/\n",
            "  inflating: FastQC/org/apache/commons/math3/exception/util/ArgUtils.class  \n",
            "  inflating: FastQC/org/apache/commons/math3/exception/util/ExceptionContext.class  \n",
            "  inflating: FastQC/org/apache/commons/math3/exception/util/ExceptionContextProvider.class  \n",
            "  inflating: FastQC/org/apache/commons/math3/exception/util/Localizable.class  \n",
            "  inflating: FastQC/org/apache/commons/math3/exception/util/LocalizedFormats.class  \n",
            "   creating: FastQC/org/apache/commons/math3/random/\n",
            "  inflating: FastQC/org/apache/commons/math3/random/AbstractWell.class  \n",
            "  inflating: FastQC/org/apache/commons/math3/random/BitsStreamGenerator.class  \n",
            "  inflating: FastQC/org/apache/commons/math3/random/RandomData.class  \n",
            "  inflating: FastQC/org/apache/commons/math3/random/RandomDataImpl.class  \n",
            "  inflating: FastQC/org/apache/commons/math3/random/RandomGenerator.class  \n",
            "  inflating: FastQC/org/apache/commons/math3/random/Well19937c.class  \n",
            "   creating: FastQC/org/apache/commons/math3/special/\n",
            "  inflating: FastQC/org/apache/commons/math3/special/Beta$1.class  \n",
            "  inflating: FastQC/org/apache/commons/math3/special/Beta.class  \n",
            "  inflating: FastQC/org/apache/commons/math3/special/Erf.class  \n",
            "  inflating: FastQC/org/apache/commons/math3/special/Gamma$1.class  \n",
            "  inflating: FastQC/org/apache/commons/math3/special/Gamma.class  \n",
            "   creating: FastQC/org/apache/commons/math3/util/\n",
            "  inflating: FastQC/org/apache/commons/math3/util/ArithmeticUtils.class  \n",
            "  inflating: FastQC/org/apache/commons/math3/util/ContinuedFraction.class  \n",
            "  inflating: FastQC/org/apache/commons/math3/util/DoubleArray.class  \n",
            "  inflating: FastQC/org/apache/commons/math3/util/FastMath$ExpFracTable.class  \n",
            "  inflating: FastQC/org/apache/commons/math3/util/FastMath$ExpIntTable.class  \n",
            "  inflating: FastQC/org/apache/commons/math3/util/FastMath$lnMant.class  \n",
            "  inflating: FastQC/org/apache/commons/math3/util/FastMath.class  \n",
            "  inflating: FastQC/org/apache/commons/math3/util/FastMathCalc.class  \n",
            "  inflating: FastQC/org/apache/commons/math3/util/FastMathLiteralArrays.class  \n",
            "  inflating: FastQC/org/apache/commons/math3/util/Incrementor$1.class  \n",
            "  inflating: FastQC/org/apache/commons/math3/util/Incrementor$MaxCountExceededCallback.class  \n",
            "  inflating: FastQC/org/apache/commons/math3/util/Incrementor.class  \n",
            "  inflating: FastQC/org/apache/commons/math3/util/MathUtils.class  \n",
            "  inflating: FastQC/org/apache/commons/math3/util/Precision.class  \n",
            "  inflating: FastQC/org/apache/commons/math3/util/ResizableDoubleArray.class  \n",
            "  inflating: FastQC/README.md        \n",
            "  inflating: FastQC/README.txt       \n",
            "  inflating: FastQC/RELEASE_NOTES.txt  \n",
            "  inflating: FastQC/run_fastqc.bat   \n",
            "  inflating: FastQC/sam-1.103.jar    \n",
            "   creating: FastQC/Templates/\n",
            "  inflating: FastQC/Templates/fastqc2fo.xsl  \n",
            "  inflating: FastQC/Templates/header_template.html  \n",
            "   creating: FastQC/Templates/Icons/\n",
            " extracting: FastQC/Templates/Icons/error.png  \n",
            " extracting: FastQC/Templates/Icons/fastqc_icon.png  \n",
            " extracting: FastQC/Templates/Icons/tick.png  \n",
            " extracting: FastQC/Templates/Icons/warning.png  \n",
            "   creating: FastQC/uk/\n",
            "   creating: FastQC/uk/ac/\n",
            "   creating: FastQC/uk/ac/babraham/\n",
            "   creating: FastQC/uk/ac/babraham/FastQC/\n",
            "   creating: FastQC/uk/ac/babraham/FastQC/Analysis/\n",
            "  inflating: FastQC/uk/ac/babraham/FastQC/Analysis/AnalysisListener.class  \n",
            "  inflating: FastQC/uk/ac/babraham/FastQC/Analysis/AnalysisQueue.class  \n",
            "  inflating: FastQC/uk/ac/babraham/FastQC/Analysis/AnalysisRunner.class  \n",
            "  inflating: FastQC/uk/ac/babraham/FastQC/Analysis/OfflineRunner.class  \n",
            "   creating: FastQC/uk/ac/babraham/FastQC/Dialogs/\n",
            "  inflating: FastQC/uk/ac/babraham/FastQC/Dialogs/AboutDialog$1.class  \n",
            "  inflating: FastQC/uk/ac/babraham/FastQC/Dialogs/AboutDialog.class  \n",
            "  inflating: FastQC/uk/ac/babraham/FastQC/Dialogs/FastQCTitlePanel$SmoothJLabel.class  \n",
            "  inflating: FastQC/uk/ac/babraham/FastQC/Dialogs/FastQCTitlePanel.class  \n",
            "  inflating: FastQC/uk/ac/babraham/FastQC/Dialogs/WelcomePanel.class  \n",
            "  inflating: FastQC/uk/ac/babraham/FastQC/FastQCApplication$1.class  \n",
            "  inflating: FastQC/uk/ac/babraham/FastQC/FastQCApplication.class  \n",
            "  inflating: FastQC/uk/ac/babraham/FastQC/FastQCConfig.class  \n",
            "  inflating: FastQC/uk/ac/babraham/FastQC/FastQCMenuBar.class  \n",
            "   creating: FastQC/uk/ac/babraham/FastQC/FileFilters/\n",
            "  inflating: FastQC/uk/ac/babraham/FastQC/FileFilters/BAMFileFilter.class  \n",
            "  inflating: FastQC/uk/ac/babraham/FastQC/FileFilters/CasavaFastQFileFilter.class  \n",
            "  inflating: FastQC/uk/ac/babraham/FastQC/FileFilters/FastQFileFilter.class  \n",
            "  inflating: FastQC/uk/ac/babraham/FastQC/FileFilters/GobyFileFilter.class  \n",
            "  inflating: FastQC/uk/ac/babraham/FastQC/FileFilters/MappedBAMFileFilter.class  \n",
            "  inflating: FastQC/uk/ac/babraham/FastQC/FileFilters/SequenceFileFilter.class  \n",
            "   creating: FastQC/uk/ac/babraham/FastQC/Graphs/\n",
            "  inflating: FastQC/uk/ac/babraham/FastQC/Graphs/BaseGroup.class  \n",
            "  inflating: FastQC/uk/ac/babraham/FastQC/Graphs/LineGraph.class  \n",
            "  inflating: FastQC/uk/ac/babraham/FastQC/Graphs/QualityBoxPlot.class  \n",
            "  inflating: FastQC/uk/ac/babraham/FastQC/Graphs/TileGraph.class  \n",
            "   creating: FastQC/uk/ac/babraham/FastQC/Help/\n",
            "  inflating: FastQC/uk/ac/babraham/FastQC/Help/HelpDialog.class  \n",
            "  inflating: FastQC/uk/ac/babraham/FastQC/Help/HelpIndexRoot$FileSorter.class  \n",
            "  inflating: FastQC/uk/ac/babraham/FastQC/Help/HelpIndexRoot.class  \n",
            "  inflating: FastQC/uk/ac/babraham/FastQC/Help/HelpPage.class  \n",
            "  inflating: FastQC/uk/ac/babraham/FastQC/Help/HelpPageDisplay$HelpEditor.class  \n",
            "  inflating: FastQC/uk/ac/babraham/FastQC/Help/HelpPageDisplay.class  \n",
            "  inflating: FastQC/uk/ac/babraham/FastQC/Help/HelpSearchPanel.class  \n",
            "   creating: FastQC/uk/ac/babraham/FastQC/Modules/\n",
            "  inflating: FastQC/uk/ac/babraham/FastQC/Modules/AbstractQCModule.class  \n",
            "  inflating: FastQC/uk/ac/babraham/FastQC/Modules/AdapterContent$Adapter.class  \n",
            "  inflating: FastQC/uk/ac/babraham/FastQC/Modules/AdapterContent$ResultsTable.class  \n",
            "  inflating: FastQC/uk/ac/babraham/FastQC/Modules/AdapterContent.class  \n",
            "  inflating: FastQC/uk/ac/babraham/FastQC/Modules/BasicStats$ResultsTable.class  \n",
            "  inflating: FastQC/uk/ac/babraham/FastQC/Modules/BasicStats.class  \n",
            "  inflating: FastQC/uk/ac/babraham/FastQC/Modules/DuplicationLevel.class  \n",
            "   creating: FastQC/uk/ac/babraham/FastQC/Modules/GCModel/\n",
            "  inflating: FastQC/uk/ac/babraham/FastQC/Modules/GCModel/GCModel.class  \n",
            "  inflating: FastQC/uk/ac/babraham/FastQC/Modules/GCModel/GCModelValue.class  \n",
            "  inflating: FastQC/uk/ac/babraham/FastQC/Modules/KmerContent$Kmer.class  \n",
            "  inflating: FastQC/uk/ac/babraham/FastQC/Modules/KmerContent$ResultsTable.class  \n",
            "  inflating: FastQC/uk/ac/babraham/FastQC/Modules/KmerContent.class  \n",
            "  inflating: FastQC/uk/ac/babraham/FastQC/Modules/ModuleConfig.class  \n",
            "  inflating: FastQC/uk/ac/babraham/FastQC/Modules/ModuleFactory.class  \n",
            "  inflating: FastQC/uk/ac/babraham/FastQC/Modules/NContent.class  \n",
            "  inflating: FastQC/uk/ac/babraham/FastQC/Modules/OverRepresentedSeqs$OverrepresentedSeq.class  \n",
            "  inflating: FastQC/uk/ac/babraham/FastQC/Modules/OverRepresentedSeqs$ResultsTable.class  \n",
            "  inflating: FastQC/uk/ac/babraham/FastQC/Modules/OverRepresentedSeqs.class  \n",
            "  inflating: FastQC/uk/ac/babraham/FastQC/Modules/PerBaseQualityScores.class  \n",
            "  inflating: FastQC/uk/ac/babraham/FastQC/Modules/PerBaseSequenceContent.class  \n",
            "  inflating: FastQC/uk/ac/babraham/FastQC/Modules/PerSequenceGCContent.class  \n",
            "  inflating: FastQC/uk/ac/babraham/FastQC/Modules/PerSequenceQualityScores.class  \n",
            "  inflating: FastQC/uk/ac/babraham/FastQC/Modules/PerTileQualityScores.class  \n",
            "  inflating: FastQC/uk/ac/babraham/FastQC/Modules/QCModule.class  \n",
            "  inflating: FastQC/uk/ac/babraham/FastQC/Modules/SequenceLengthDistribution.class  \n",
            "   creating: FastQC/uk/ac/babraham/FastQC/Report/\n",
            "  inflating: FastQC/uk/ac/babraham/FastQC/Report/HTMLReportArchive.class  \n",
            "  inflating: FastQC/uk/ac/babraham/FastQC/Report/stylesheet.txt  \n",
            "   creating: FastQC/uk/ac/babraham/FastQC/Resources/\n",
            " extracting: FastQC/uk/ac/babraham/FastQC/Resources/error.png  \n",
            " extracting: FastQC/uk/ac/babraham/FastQC/Resources/fastqc_icon.png  \n",
            "  inflating: FastQC/uk/ac/babraham/FastQC/Resources/fastqc_icon.svg  \n",
            " extracting: FastQC/uk/ac/babraham/FastQC/Resources/fastqc_icon_100.png  \n",
            " extracting: FastQC/uk/ac/babraham/FastQC/Resources/tick.png  \n",
            " extracting: FastQC/uk/ac/babraham/FastQC/Resources/warning.png  \n",
            "   creating: FastQC/uk/ac/babraham/FastQC/Results/\n",
            "  inflating: FastQC/uk/ac/babraham/FastQC/Results/ResultsPanel$ModuleRenderer.class  \n",
            "  inflating: FastQC/uk/ac/babraham/FastQC/Results/ResultsPanel.class  \n",
            "   creating: FastQC/uk/ac/babraham/FastQC/Sequence/\n",
            "  inflating: FastQC/uk/ac/babraham/FastQC/Sequence/BAMFile.class  \n",
            "   creating: FastQC/uk/ac/babraham/FastQC/Sequence/Contaminant/\n",
            "  inflating: FastQC/uk/ac/babraham/FastQC/Sequence/Contaminant/Contaminant.class  \n",
            "  inflating: FastQC/uk/ac/babraham/FastQC/Sequence/Contaminant/ContaminantHit.class  \n",
            "  inflating: FastQC/uk/ac/babraham/FastQC/Sequence/Contaminant/ContaminentFinder.class  \n",
            "  inflating: FastQC/uk/ac/babraham/FastQC/Sequence/Fast5File.class  \n",
            "  inflating: FastQC/uk/ac/babraham/FastQC/Sequence/FastQFile.class  \n",
            "   creating: FastQC/uk/ac/babraham/FastQC/Sequence/QualityEncoding/\n",
            "  inflating: FastQC/uk/ac/babraham/FastQC/Sequence/QualityEncoding/PhredEncoding.class  \n",
            "  inflating: FastQC/uk/ac/babraham/FastQC/Sequence/Sequence.class  \n",
            "  inflating: FastQC/uk/ac/babraham/FastQC/Sequence/SequenceFactory.class  \n",
            "  inflating: FastQC/uk/ac/babraham/FastQC/Sequence/SequenceFile.class  \n",
            "  inflating: FastQC/uk/ac/babraham/FastQC/Sequence/SequenceFileGroup.class  \n",
            "  inflating: FastQC/uk/ac/babraham/FastQC/Sequence/SequenceFormatException.class  \n",
            "   creating: FastQC/uk/ac/babraham/FastQC/Statistics/\n",
            "  inflating: FastQC/uk/ac/babraham/FastQC/Statistics/NormalDistribution.class  \n",
            "  inflating: FastQC/uk/ac/babraham/FastQC/Statistics/PearsonCorrelation.class  \n",
            "   creating: FastQC/uk/ac/babraham/FastQC/Utilities/\n",
            "  inflating: FastQC/uk/ac/babraham/FastQC/Utilities/CasavaBasename.class  \n",
            "  inflating: FastQC/uk/ac/babraham/FastQC/Utilities/HotColdColourGradient.class  \n",
            "  inflating: FastQC/uk/ac/babraham/FastQC/Utilities/ImageToBase64.class  \n",
            "  inflating: FastQC/uk/ac/babraham/FastQC/Utilities/MultiMemberGZIPInputStream.class  \n",
            "  inflating: FastQC/uk/ac/babraham/FastQC/Utilities/NameFormatException.class  \n",
            "  inflating: FastQC/uk/ac/babraham/FastQC/Utilities/NanoporeBasename.class  \n",
            "  inflating: FastQC/uk/ac/babraham/FastQC/Utilities/QualityCount.class  \n",
            "  inflating: FastQC/uk/ac/babraham/FastQC/Utilities/RGB.class  \n"
          ]
        }
      ],
      "source": [
        "!wget https://www.bioinformatics.babraham.ac.uk/projects/fastqc/fastqc_v0.11.9.zip\n",
        "!unzip fastqc_v0.11.9.zip\n",
        "!chmod a+x FastQC/fastqc"
      ]
    },
    {
      "cell_type": "markdown",
      "source": [
        "Можно получать данные секвенировия с ENA. Например, https://www.ebi.ac.uk/ena/browser/view/SRR5836473"
      ],
      "metadata": {
        "id": "ckvk9pcbtAbV"
      }
    },
    {
      "cell_type": "code",
      "source": [
        "!wget ftp://ftp.sra.ebi.ac.uk/vol1/fastq/SRR583/003/SRR5836473/SRR5836473_1.fastq.gz\n",
        "!gunzip SRR5836473_1.fastq.gz\n",
        "!./FastQC/fastqc SRR5836473_1.fastq"
      ],
      "metadata": {
        "colab": {
          "base_uri": "https://localhost:8080/"
        },
        "id": "vaOBChuntHyQ",
        "outputId": "ab01e0a8-49d6-4c13-b0ea-4278db64a703"
      },
      "execution_count": null,
      "outputs": [
        {
          "output_type": "stream",
          "name": "stdout",
          "text": [
            "--2023-02-05 18:22:42--  ftp://ftp.sra.ebi.ac.uk/vol1/fastq/SRR583/003/SRR5836473/SRR5836473_1.fastq.gz\n",
            "           => ‘SRR5836473_1.fastq.gz’\n",
            "Resolving ftp.sra.ebi.ac.uk (ftp.sra.ebi.ac.uk)... 193.62.193.138\n",
            "Connecting to ftp.sra.ebi.ac.uk (ftp.sra.ebi.ac.uk)|193.62.193.138|:21... connected.\n",
            "Logging in as anonymous ... Logged in!\n",
            "==> SYST ... done.    ==> PWD ... done.\n",
            "==> TYPE I ... done.  ==> CWD (1) /vol1/fastq/SRR583/003/SRR5836473 ... done.\n",
            "==> SIZE SRR5836473_1.fastq.gz ... 6856386252\n",
            "==> PASV ... done.    ==> RETR SRR5836473_1.fastq.gz ... done.\n",
            "Length: 6856386252 (6.4G) (unauthoritative)\n",
            "\n",
            "SRR5836473_1.fastq. 100%[===================>]   6.38G  22.8MB/s    in 5m 14s  \n",
            "\n",
            "2023-02-05 18:27:58 (20.8 MB/s) - ‘SRR5836473_1.fastq.gz’ saved [6856386252]\n",
            "\n",
            "Started analysis of SRR5836473_1.fastq\n",
            "Approx 5% complete for SRR5836473_1.fastq\n",
            "Approx 10% complete for SRR5836473_1.fastq\n",
            "Approx 15% complete for SRR5836473_1.fastq\n",
            "Approx 20% complete for SRR5836473_1.fastq\n",
            "Approx 25% complete for SRR5836473_1.fastq\n",
            "Approx 30% complete for SRR5836473_1.fastq\n",
            "Approx 35% complete for SRR5836473_1.fastq\n",
            "Approx 40% complete for SRR5836473_1.fastq\n",
            "Approx 45% complete for SRR5836473_1.fastq\n",
            "Approx 50% complete for SRR5836473_1.fastq\n",
            "Approx 55% complete for SRR5836473_1.fastq\n",
            "Approx 60% complete for SRR5836473_1.fastq\n",
            "Approx 65% complete for SRR5836473_1.fastq\n",
            "Approx 70% complete for SRR5836473_1.fastq\n",
            "Approx 75% complete for SRR5836473_1.fastq\n",
            "Approx 80% complete for SRR5836473_1.fastq\n",
            "Approx 85% complete for SRR5836473_1.fastq\n",
            "Approx 90% complete for SRR5836473_1.fastq\n",
            "Approx 95% complete for SRR5836473_1.fastq\n",
            "Analysis complete for SRR5836473_1.fastq\n"
          ]
        }
      ]
    },
    {
      "cell_type": "markdown",
      "source": [
        "### Установка Bismark с зависимостями (+bowtie2, samtools)"
      ],
      "metadata": {
        "id": "NDRwgSzEY4tx"
      }
    },
    {
      "cell_type": "code",
      "source": [
        "! pip install -q condacolab\n",
        "import condacolab\n",
        "condacolab.install()\n",
        "condacolab.check()"
      ],
      "metadata": {
        "id": "rhapBf0qY7LH",
        "colab": {
          "base_uri": "https://localhost:8080/"
        },
        "outputId": "41d17841-ec7a-45bc-a9e9-a2fe9b4b09ba"
      },
      "execution_count": 28,
      "outputs": [
        {
          "output_type": "stream",
          "name": "stdout",
          "text": [
            "\u001b[33mWARNING: Running pip as the 'root' user can result in broken permissions and conflicting behaviour with the system package manager. It is recommended to use a virtual environment instead: https://pip.pypa.io/warnings/venv\u001b[0m\u001b[33m\n",
            "\u001b[0m✨🍰✨ Everything looks OK!\n",
            "✨🍰✨ Everything looks OK!\n"
          ]
        }
      ]
    },
    {
      "cell_type": "code",
      "source": [
        "!conda install -c bioconda bismark"
      ],
      "metadata": {
        "id": "SIu44SBxZJ-3",
        "colab": {
          "base_uri": "https://localhost:8080/"
        },
        "outputId": "a01ddbba-e043-42ab-a769-b2f47f868065"
      },
      "execution_count": null,
      "outputs": [
        {
          "output_type": "stream",
          "name": "stdout",
          "text": [
            "Collecting package metadata (current_repodata.json): - \b\b\\ \b\b| \b\b/ \b\b- \b\b\\ \b\b| \b\b/ \b\b- \b\b\\ \b\b| \b\b/ \b\b- \b\b\\ \b\b| \b\b/ \b\b- \b\b\\ \b\b| \b\b/ \b\b- \b\b\\ \b\b| \b\b/ \b\b- \b\b\\ \b\b| \b\b/ \b\b- \b\b\\ \b\b| \b\b/ \b\b- \b\b\\ \b\b| \b\b/ \b\b- \b\b\\ \b\b| \b\b/ \b\b- \b\b\\ \b\b| \b\b/ \b\b- \b\b\\ \b\b| \b\b/ \b\b- \b\b\\ \b\b| \b\b/ \b\b- \b\b\\ \b\b| \b\b/ \b\b- \b\b\\ \b\b| \b\b/ \b\b- \b\b\\ \b\b| \b\b/ \b\b- \b\b\\ \b\b| \b\b/ \b\b- \b\b\\ \b\b| \b\b/ \b\b- \b\b\\ \b\b| \b\b/ \b\b- \b\b\\ \b\b| \b\b/ \b\b- \b\b\\ \b\b| \b\b/ \b\b- \b\b\\ \b\b| \b\b/ \b\b- \b\b\\ \b\b| \b\b/ \b\b- \b\b\\ \b\b| \b\b/ \b\b- \b\b\\ \b\b| \b\b/ \b\b- \b\b\\ \b\b| \b\b/ \b\b- \b\b\\ \b\b| \b\b/ \b\b- \b\b\\ \b\b| \b\b/ \b\b- \b\b\\ \b\b| \b\b/ \b\b- \b\b\\ \b\b| \b\b/ \b\b- \b\b\\ \b\b| \b\b/ \b\b- \b\b\\ \b\b| \b\b/ \b\b- \b\b\\ \b\b| \b\b/ \b\b- \b\b\\ \b\b| \b\b/ \b\b- \b\b\\ \b\b| \b\b/ \b\b- \b\b\\ \b\b| \b\b/ \b\b- \b\b\\ \b\b| \b\b/ \b\b- \b\b\\ \b\b| \b\b/ \b\b- \b\b\\ \b\b| \b\b/ \b\b- \b\b\\ \b\b| \b\b/ \b\b- \b\b\\ \b\b| \b\b/ \b\b- \b\b\\ \b\b| \b\b/ \b\b- \b\b\\ \b\b| \b\b/ \b\b- \b\b\\ \b\b| \b\b/ \b\b- \b\b\\ \b\b| \b\b/ \b\b- \b\b\\ \b\b| \b\b/ \b\b- \b\b\\ \b\b| \b\b/ \b\b- \b\b\\ \b\b| \b\b/ \b\b- \b\b\\ \b\b| \b\b/ \b\b- \b\b\\ \b\b| \b\b/ \b\b- \b\b\\ \b\b| \b\b/ \b\b- \b\b\\ \b\b| \b\b/ \b\bdone\n",
            "Solving environment: \\ \b\b| \b\b/ \b\b- \b\b\\ \b\b| \b\b/ \b\b- \b\b\\ \b\b| \b\b/ \b\b- \b\b\\ \b\b| \b\b/ \b\b- \b\b\\ \b\b| \b\b/ \b\b- \b\b\\ \b\b| \b\b/ \b\b- \b\b\\ \b\b| \b\b/ \b\b- \b\b\\ \b\bdone\n",
            "\n",
            "## Package Plan ##\n",
            "\n",
            "  environment location: /usr/local\n",
            "\n",
            "  added / updated specs:\n",
            "    - bismark\n",
            "\n",
            "\n",
            "The following packages will be downloaded:\n",
            "\n",
            "    package                    |            build\n",
            "    ---------------------------|-----------------\n",
            "    bismark-0.24.0             |       hdfd78af_0         6.6 MB  bioconda\n",
            "    bowtie2-2.5.1              |   py38h77f66f0_0        14.8 MB  bioconda\n",
            "    ca-certificates-2022.12.7  |       ha878542_0         143 KB  conda-forge\n",
            "    certifi-2022.12.7          |     pyhd8ed1ab_0         147 KB  conda-forge\n",
            "    colorama-0.4.6             |     pyhd8ed1ab_0          25 KB  conda-forge\n",
            "    conda-22.11.1              |   py38h578d9bd_1         905 KB  conda-forge\n",
            "    hisat2-2.2.1               |       h87f3376_4        16.5 MB  bioconda\n",
            "    k8-0.2.5                   |       hd03093a_2         1.7 MB  bioconda\n",
            "    libhwloc-2.8.0             |       h32351e8_1         3.0 MB  conda-forge\n",
            "    minimap2-2.24              |       h7132678_1         484 KB  bioconda\n",
            "    openssl-3.0.7              |       h0b41bf4_2         2.5 MB  conda-forge\n",
            "    perl-5.32.1                | 2_h7f98852_perl5        14.4 MB  conda-forge\n",
            "    pluggy-1.0.0               |     pyhd8ed1ab_5          16 KB  conda-forge\n",
            "    ruamel.yaml-0.17.21        |   py38h0a891b7_2         172 KB  conda-forge\n",
            "    ruamel.yaml.clib-0.2.7     |   py38h1de0b5d_1         143 KB  conda-forge\n",
            "    samtools-1.3.1             |                0         1.5 MB  bioconda\n",
            "    tbb-2021.7.0               |       h924138e_1         1.5 MB  conda-forge\n",
            "    tqdm-4.64.1                |     pyhd8ed1ab_0          82 KB  conda-forge\n",
            "    zlib-1.2.13                |       h166bdaf_4          92 KB  conda-forge\n",
            "    ------------------------------------------------------------\n",
            "                                           Total:        64.6 MB\n",
            "\n",
            "The following NEW packages will be INSTALLED:\n",
            "\n",
            "  bismark            bioconda/noarch::bismark-0.24.0-hdfd78af_0 None\n",
            "  bowtie2            bioconda/linux-64::bowtie2-2.5.1-py38h77f66f0_0 None\n",
            "  colorama           conda-forge/noarch::colorama-0.4.6-pyhd8ed1ab_0 None\n",
            "  hisat2             bioconda/linux-64::hisat2-2.2.1-h87f3376_4 None\n",
            "  k8                 bioconda/linux-64::k8-0.2.5-hd03093a_2 None\n",
            "  libhwloc           conda-forge/linux-64::libhwloc-2.8.0-h32351e8_1 None\n",
            "  minimap2           bioconda/linux-64::minimap2-2.24-h7132678_1 None\n",
            "  perl               conda-forge/linux-64::perl-5.32.1-2_h7f98852_perl5 None\n",
            "  pluggy             conda-forge/noarch::pluggy-1.0.0-pyhd8ed1ab_5 None\n",
            "  ruamel.yaml        conda-forge/linux-64::ruamel.yaml-0.17.21-py38h0a891b7_2 None\n",
            "  ruamel.yaml.clib   conda-forge/linux-64::ruamel.yaml.clib-0.2.7-py38h1de0b5d_1 None\n",
            "  samtools           bioconda/linux-64::samtools-1.3.1-0 None\n",
            "  tbb                conda-forge/linux-64::tbb-2021.7.0-h924138e_1 None\n",
            "  tqdm               conda-forge/noarch::tqdm-4.64.1-pyhd8ed1ab_0 None\n",
            "  zlib               conda-forge/linux-64::zlib-1.2.13-h166bdaf_4 None\n",
            "\n",
            "The following packages will be UPDATED:\n",
            "\n",
            "  ca-certificates                      2022.9.24-ha878542_0 --> 2022.12.7-ha878542_0 None\n",
            "  certifi                            2022.9.24-pyhd8ed1ab_0 --> 2022.12.7-pyhd8ed1ab_0 None\n",
            "  conda                               22.9.0-py38h578d9bd_2 --> 22.11.1-py38h578d9bd_1 None\n",
            "  openssl                                  3.0.7-h0b41bf4_1 --> 3.0.7-h0b41bf4_2 None\n",
            "\n",
            "\n",
            "\n",
            "Downloading and Extracting Packages\n",
            "samtools-1.3.1       | 1.5 MB    | : 100% 1.0/1 [00:00<00:00,  1.56it/s]\n",
            "tqdm-4.64.1          | 82 KB     | : 100% 1.0/1 [00:00<00:00,  9.84it/s]\n",
            "colorama-0.4.6       | 25 KB     | : 100% 1.0/1 [00:00<00:00, 15.02it/s]\n",
            "zlib-1.2.13          | 92 KB     | : 100% 1.0/1 [00:00<00:00, 14.49it/s]\n",
            "conda-22.11.1        | 905 KB    | : 100% 1.0/1 [00:00<00:00,  3.73it/s]\n",
            "hisat2-2.2.1         | 16.5 MB   | : 100% 1.0/1 [00:03<00:00,  3.91s/it]\n",
            "ruamel.yaml.clib-0.2 | 143 KB    | : 100% 1.0/1 [00:00<00:00, 16.40it/s]\n",
            "libhwloc-2.8.0       | 3.0 MB    | : 100% 1.0/1 [00:00<00:00,  1.36it/s]\n",
            "perl-5.32.1          | 14.4 MB   | : 100% 1.0/1 [00:06<00:00,  6.88s/it]\n",
            "pluggy-1.0.0         | 16 KB     | : 100% 1.0/1 [00:00<00:00, 15.04it/s]\n",
            "k8-0.2.5             | 1.7 MB    | : 100% 1.0/1 [00:00<00:00,  1.38it/s]\n",
            "ruamel.yaml-0.17.21  | 172 KB    | : 100% 1.0/1 [00:00<00:00,  5.90it/s]\n",
            "ca-certificates-2022 | 143 KB    | : 100% 1.0/1 [00:00<00:00, 15.69it/s]\n",
            "certifi-2022.12.7    | 147 KB    | : 100% 1.0/1 [00:00<00:00, 16.59it/s]\n",
            "minimap2-2.24        | 484 KB    | : 100% 1.0/1 [00:00<00:00,  4.01it/s]\n",
            "tbb-2021.7.0         | 1.5 MB    | : 100% 1.0/1 [00:00<00:00,  6.62it/s]\n",
            "bismark-0.24.0       | 6.6 MB    | : 100% 1.0/1 [00:02<00:00,  2.85s/it]               \n",
            "bowtie2-2.5.1        | 14.8 MB   | : 100% 1.0/1 [00:03<00:00,  3.88s/it]               \n",
            "openssl-3.0.7        | 2.5 MB    | : 100% 1.0/1 [00:00<00:00,  5.72it/s]\n",
            "Preparing transaction: / \b\b- \b\bdone\n",
            "Verifying transaction: | \b\b/ \b\b- \b\b\\ \b\b| \b\b/ \b\b- \b\b\\ \b\b| \b\b/ \b\b- \b\b\\ \b\b| \b\b/ \b\b- \b\b\\ \b\b| \b\bdone\n",
            "Executing transaction: - \b\b\\ \b\b| \b\b/ \b\b- \b\b\\ \b\b| \b\b/ \b\b- \b\b\\ \b\b| \b\b/ \b\b- \b\b\\ \b\b| \b\b/ \b\b- \b\b\\ \b\b| \b\bdone\n",
            "Retrieving notices: ...working... done\n"
          ]
        }
      ]
    },
    {
      "cell_type": "markdown",
      "source": [
        "Можно загрузить файл с google drive напрямую:"
      ],
      "metadata": {
        "id": "SIxQTCBtZXiH"
      }
    },
    {
      "cell_type": "code",
      "source": [
        "# bam файлы\n",
        "from google.colab import drive\n",
        "drive.mount('/content/drive')\n",
        "\n",
        "!cp /content/drive/MyDrive/SRR5836473_1_bismark_bt2_pe.bam /content/SRR5836473_1_bismark_bt2_pe.bam\n",
        "!cp /content/drive/MyDrive/SRR3824222_1_bismark_bt2_pe.bam /content/SRR3824222_1_bismark_bt2_pe.bam\n",
        "!cp /content/drive/MyDrive/SRR5836475_1_bismark_bt2_pe.bam /content/SRR5836475_1_bismark_bt2_pe.bam\n",
        "\n",
        "#!gdown --id 1ER0Jw61jF8291bjfMMRACQ-pFadDhHVq\n",
        "#!gdown --id 1UMTOsaLhfps-ZNccNC4Q_5Cw5FMtUTYN\n",
        "#!gdown --id 10hV1KW2Uvh8Nm_jxoBJDEpW14z3s8ZG7"
      ],
      "metadata": {
        "id": "m8uF8cGFZYVV",
        "colab": {
          "base_uri": "https://localhost:8080/"
        },
        "outputId": "c663f65e-246a-486d-a880-279c84753fc1"
      },
      "execution_count": null,
      "outputs": [
        {
          "output_type": "stream",
          "name": "stdout",
          "text": [
            "Mounted at /content/drive\n"
          ]
        }
      ]
    },
    {
      "cell_type": "code",
      "source": [
        "# отчет о выравниваниях тоже нужен\n",
        "!gdown --id 1tnhtwKBO2Fszj-Im30XuuADtO7oIN5-B\n",
        "!gdown --id 1a-USP32jw0n6L9pRqsbUCjt4j8VopPBg\n",
        "!gdown --id 14vyhf4aKfEPXR2yfK1Rk_f3Muzf1hL40"
      ],
      "metadata": {
        "id": "yVtxXy22ZbXb",
        "colab": {
          "base_uri": "https://localhost:8080/"
        },
        "outputId": "eccdb330-d3e4-4d7f-e4a7-982aa688f503"
      },
      "execution_count": null,
      "outputs": [
        {
          "output_type": "stream",
          "name": "stdout",
          "text": [
            "/usr/local/lib/python3.8/dist-packages/gdown/cli.py:127: FutureWarning: Option `--id` was deprecated in version 4.3.1 and will be removed in 5.0. You don't need to pass it anymore to use a file ID.\n",
            "  warnings.warn(\n",
            "Downloading...\n",
            "From: https://drive.google.com/uc?id=1tnhtwKBO2Fszj-Im30XuuADtO7oIN5-B\n",
            "To: /content/SRR5836473_1_bismark_bt2_PE_report.txt\n",
            "100% 1.90k/1.90k [00:00<00:00, 1.97MB/s]\n",
            "/usr/local/lib/python3.8/dist-packages/gdown/cli.py:127: FutureWarning: Option `--id` was deprecated in version 4.3.1 and will be removed in 5.0. You don't need to pass it anymore to use a file ID.\n",
            "  warnings.warn(\n",
            "Downloading...\n",
            "From: https://drive.google.com/uc?id=1a-USP32jw0n6L9pRqsbUCjt4j8VopPBg\n",
            "To: /content/SRR3824222_1_bismark_bt2_PE_report.txt\n",
            "100% 1.90k/1.90k [00:00<00:00, 2.53MB/s]\n",
            "/usr/local/lib/python3.8/dist-packages/gdown/cli.py:127: FutureWarning: Option `--id` was deprecated in version 4.3.1 and will be removed in 5.0. You don't need to pass it anymore to use a file ID.\n",
            "  warnings.warn(\n",
            "Downloading...\n",
            "From: https://drive.google.com/uc?id=14vyhf4aKfEPXR2yfK1Rk_f3Muzf1hL40\n",
            "To: /content/SRR5836475_1_bismark_bt2_PE_report.txt\n",
            "100% 1.89k/1.89k [00:00<00:00, 728kB/s]\n"
          ]
        }
      ]
    },
    {
      "cell_type": "code",
      "source": [
        "!ls -lh"
      ],
      "metadata": {
        "id": "75ZDVNdvb8dr",
        "colab": {
          "base_uri": "https://localhost:8080/"
        },
        "outputId": "87433fff-9bd5-467f-dad4-648237623f1b"
      },
      "execution_count": null,
      "outputs": [
        {
          "output_type": "stream",
          "name": "stdout",
          "text": [
            "total 3.0G\n",
            "-rw-r--r-- 1 root root  17K Feb  7 00:52 condacolab_install.log\n",
            "drwx------ 5 root root 4.0K Feb  7 01:01 drive\n",
            "drwxr-xr-x 1 root root 4.0K Feb  3 14:34 sample_data\n",
            "-rw------- 1 root root 1.5G Feb  7 01:01 SRR3824222_1_bismark_bt2_pe.bam\n",
            "-rw-r--r-- 1 root root 1.9K Feb  7 01:02 SRR3824222_1_bismark_bt2_PE_report.txt\n",
            "-rw------- 1 root root 636M Feb  7 01:01 SRR5836473_1_bismark_bt2_pe.bam\n",
            "-rw-r--r-- 1 root root 1.9K Feb  7 01:02 SRR5836473_1_bismark_bt2_PE_report.txt\n",
            "-rw------- 1 root root 916M Feb  7 01:02 SRR5836475_1_bismark_bt2_pe.bam\n",
            "-rw-r--r-- 1 root root 1.9K Feb  7 01:02 SRR5836475_1_bismark_bt2_PE_report.txt\n"
          ]
        }
      ]
    },
    {
      "cell_type": "code",
      "source": [
        "!apt-get install libncurses5"
      ],
      "metadata": {
        "colab": {
          "base_uri": "https://localhost:8080/"
        },
        "id": "7GTipNYPafXT",
        "outputId": "f1afad7a-09cd-4545-ae28-1da8af28d362"
      },
      "execution_count": null,
      "outputs": [
        {
          "output_type": "stream",
          "name": "stdout",
          "text": [
            "Reading package lists... Done\n",
            "Building dependency tree       \n",
            "Reading state information... Done\n",
            "The following package was automatically installed and is no longer required:\n",
            "  libnvidia-common-510\n",
            "Use 'apt autoremove' to remove it.\n",
            "The following NEW packages will be installed:\n",
            "  libncurses5\n",
            "0 upgraded, 1 newly installed, 0 to remove and 27 not upgraded.\n",
            "Need to get 96.9 kB of archives.\n",
            "After this operation, 330 kB of additional disk space will be used.\n",
            "Get:1 http://archive.ubuntu.com/ubuntu focal/universe amd64 libncurses5 amd64 6.2-0ubuntu2 [96.9 kB]\n",
            "Fetched 96.9 kB in 0s (196 kB/s)\n",
            "Selecting previously unselected package libncurses5:amd64.\n",
            "(Reading database ... 129496 files and directories currently installed.)\n",
            "Preparing to unpack .../libncurses5_6.2-0ubuntu2_amd64.deb ...\n",
            "Unpacking libncurses5:amd64 (6.2-0ubuntu2) ...\n",
            "Setting up libncurses5:amd64 (6.2-0ubuntu2) ...\n",
            "Processing triggers for libc-bin (2.31-0ubuntu9.9) ...\n"
          ]
        }
      ]
    },
    {
      "cell_type": "code",
      "source": [
        "!samtools view SRR5836473_1_bismark_bt2_pe.bam | head"
      ],
      "metadata": {
        "id": "a3tBEIRDb9r5",
        "colab": {
          "base_uri": "https://localhost:8080/"
        },
        "outputId": "fc5acbfc-e1fd-4a9f-d240-b5d6b4183b21"
      },
      "execution_count": null,
      "outputs": [
        {
          "output_type": "stream",
          "name": "stdout",
          "text": [
            "SRR5836473.18_18/1\t99\tchr11\t116830009\t0\t139M\t=\t116830059\t190\tTTTATTTTGTTATTGGATTTAGAGATTATTTGGCGGGAATCGGGTTTTTTTTTTTTTTTTTTATAATAGAGTGTCGTAATAGTAAAATTGAGTTTTGATTAGAGTGATTTTGATTTGGTTTCGTTTTTTTTTTCGTTCG\tFKKKKKKKKKKKKKKKK<FKKKKFKKKKKKKKKKKKKFKKKKKKFAFKKKKKKKKKKKKKKKAKFFFFKFF7FFFKFKK7AKKKKKKKKAFKKKKAFKKAFKFK,F<FAKKKAFAFFF,FKKKKKKKKKKKKFF<A77F\tNM:i:37\tMD:Z:0C1C2C0C2C2C6C0C23C0C0C0C0C1C0C0C0C0C2C0C2C4C0T8G2C12C4T1C7C0C4C4C1C4C3C2C3C2\tXM:Z:h.h..hx..h..x......x.............Z......Z...hhhhh.hhhhh..hh..h....x.......Z....x............h......x.......hh....h....h.xZ...h...h..xZ..xZ.\tXR:Z:CT\tXG:Z:CT\n",
            "SRR5836473.18_18/1\t147\tchr11\t116830059\t0\t140M\t=\t116830009\t-190\tTTTTTTTTTTTTATAATAGAGTGTCGTAATAGTAAAATTGAGTTTTGATTAGAGTGATTTTGATTTGGTTTCGTTTTTTTTTTCGTTCGTTTAGTTTTTTTTTTGTAGTTCGAGTTGTTATTTTAGTTGAATTGTTTATT\tKKF<A,KAFA7A7,K77KF<F<A<F<7,,7,7A7,,7AFFFA<,KKKAA<<,7KAF7KKFAA<AKFKKF7<KKKKFKKKKKFFKKFFFKKKKKKKKKFKKKKKKKKFKKFKKKKKKKKKKKKKKKKKKKKKKKKKKKKKF\tNM:i:39\tMD:Z:0C0C0C0C0C2C0C2C4C0T8G2C12C4T1C7C0C4C4C1C4C3C2C3C3C5C0C1C1C2T0C2C0C7C0C2C9C0C3C3\tXM:Z:hhhhh..hh..h....x.......Z....x............h......x.......hh....h....h.xZ...h...h..xZ..xZ..h.....hh.h.h...x..hxZ......hh..h.........xz...h...\tXR:Z:GA\tXG:Z:CT\n",
            "SRR5836473.30_30/1\t99\tchr11\t24232407\t0\t140M\t=\t24232506\t239\tGGTAAGAAGGATATATGTTTAATTATGTTTATAGTAGTTTTATTTATAATAGTTAGAAGTTGGAAAGAATTTAGATGTTTTTCAATAGAGGAATGGATATTAAAAAATGTGGTATATTTATATAATGGAGTATTATTTAG\tKKKKKKKKKKKKKKKKKKKKKKKKKKKKKKKKKKKKKKKKKKKKKKKKKKKKKKKKKKKKKKKKKKKKKKKKKKKKKKKKKKKKKKKKKKKKKKKKKKKKKKKKKKKKKFFKKKKKKKKKKKKKKKKKKKFKKKKKAFKK\tNM:i:29\tMD:Z:0T10C1C3C1C0C1C6C4C2C0C13C0C5C9C0C0C5C0C0C0C4C13C0C13C5C1C12C1C2\tXM:Z:...........h.h...h.h..h......h....x..hh.............hx.....x.........hhx.....hhhh.H..x.............hh.............h.....h.h............h.x..\tXR:Z:CT\tXG:Z:CT\n",
            "SRR5836473.30_30/1\t147\tchr11\t24232506\t0\t140M\t=\t24232407\t-239\tTTAAAAAATGTGGTATATTTATATAATGGAGTATTATTTAGTTATTAAAAAGAATGAATTTATGAAATTTTTAGGTAAATGGATGGATTTGGAGGGTATTATTTTGAGTGAGGTAATTTAATTATAAAAGAATTTATATG\t7AKKKKFFFAA7AKFAKKFKFAKKKKKFA7KKKFAFFAKKKKKKFFKFKKKKKKKKKAKKKKKFKKKKKKKKKKKKKFKKKKKKKKKFKKKKKKKKKKKKKKA<AKFKF<AKKKKKKFKFKKKKKKKKKKKKKKKKKKFF\tNM:i:28\tMD:Z:0C0C13C5C1C12C1C2C27C0C4C0C10C0C7C2C2C0C12C0C0C3C1C7C1C1C1C0A0\tXM:Z:hh.............h.....h.h............h.x..h...........................hh....h...........hx.......h..h..hx............hhh...h.h.......h.h.h.h.\tXR:Z:GA\tXG:Z:CT\n",
            "SRR5836473.39_39/1\t83\tchr11\t105051790\t0\t13M1D127M\t=\t105051789\t-142\tTTAAAAACTACATATACTAATATACTAACAAACAAATAAACCAATAAAATAAAATTAAAAACCCAAAAATAAACCCACACACCTATAATCACTTAATCTTTATCAAAAAAACTAAAACCATCCAATAAAAAAAAAACACC\tKFKKKKKKKKKKKKKKKKKKKKKKKKKKKKKKKKKKKKKKKKKKKKKKKKKKKKKKKKKFKKKKKKKKKKKKFKKKKKFKKKKKKKKKKKKKKKKKKKKKKKKKKKKKKKKKKKKKFKKKKKKKKKKKKKKKKKKKKKKK\tNM:i:31\tMD:Z:0A8G3^G0G4G0G6G3G4G2G6G0G4G4G2G5G4G15G0G6G6G0A3G0G0G1G13G1G0G6G3G1\tXM:Z:.........x...h....xh......x...x....h..h......hh....h....h..h.....x....h...............hh......h......h....hhh.h.............x.hh......h.....\tXR:Z:CT\tXG:Z:GA\n",
            "SRR5836473.39_39/1\t163\tchr11\t105051789\t0\t14M1D126M\t=\t105051790\t142\tATTAAAAACTACATATACTAATATACTAACAAACAAATAAACCAATAAAATAAAATTAAAAACCCAAAAATAAACCCACACACCTATAATCACTTAATCTTTATCAAAAAAACTAAAACCATCCAATAAAAAAAAAACAC\tKKKKKKKKKKKKKKKKKKKKKKKKKKKKKKKKKKKKKKKKKKKKKKKKKKKKKKKKKKKKKKKKKKKKKKKKKKKKKKKKKKKKKKKKKKKKKKKKKKKKFKKKKK<FKA<FKFFKKKKKKKKKFKFKKFK,,<FA,,7<\tNM:i:32\tMD:Z:0G0A8G3^G0G4G0G6G3G4G2G6G0G4G4G2G5G4G15G0G6G6G0A3G0G0G1G13G1G0G6G3G0\tXM:Z:h.........x...h....xh......x...x....h..h......hh....h....h..h.....x....h...............hh......h......h....hhh.h.............x.hh......h....\tXR:Z:GA\tXG:Z:GA\n",
            "SRR5836473.41_41/1\t99\tchr11\t40185837\t0\t140M\t=\t40185875\t178\tAATTTTTTTGGGGATTGTATTGAATTTGTAGATTGTTTTTGGTAAGAGAGTTATTTTTATTATATTGATTTTGTTAATTTATGAATATGGGAGATTTTTTTATTTTTTGAGATTTTTTTTAATTTTTTTTTTTAGAGATT\tKKKKKKKKKKKKKKKFKKKKKKKKKKKKKKFKKKKKKKKKFKKKKKKKKKFKKKKKKKKKKKKKKKKKKKKKKKKKKKKKKKKKKKKKKKKKKKKKKKKKKKKKKKKKKKKKKKKKKKKKKKKKKKKKKKKKKF7<77FF\tNM:i:28\tMD:Z:6G0A9C7C9C6C4T2C0C7C9C0C2C0C3C0C5C9C3C0C2C2C6C2C8C3C2C5C1\tXM:Z:.................h.......x.........h......h.......hh.......h.........hx..hh...hh.....h.........h...hh..h..x......h..h........h...h..x.....h.\tXR:Z:CT\tXG:Z:CT\n",
            "SRR5836473.41_41/1\t147\tchr11\t40185875\t0\t140M\t=\t40185837\t-178\tTTGGTAAGAGAGTTATTTTTATTATATTGATTTTGTTAATTTATGAATATGGGAGATTTTTTTATTTTTTGAGATTTTTTTTAATTTTTTTTTTTAGAGATTTGAAGTTTTTATTATATAGATTTTTTATTTTTTTAGTG\tAKKKKKAAFFFKKKKKKKKKKKKKFFKKKKKKKKKKFAFKKKKKKKKKKKKKKKKKKKKKKKKKKKKKKFKKKKKKKKKKKKFKKKKKKKKKKKKKKKKKKKKKKKKKKKKKKKKKKKKKKKKKKKKKKKKKKKKKKKKK\tNM:i:31\tMD:Z:4C4T2C0C7C9C0C2C0C3C0C5C9C3C0C2C2C6C2C8C3C2C5C8C4C3A4C3C1C2C6T0\tXM:Z:....h.......hh.......h.........hx..hh...hh.....h.........h...hh..h..x......h..h........h...h..x.....h........h....h........h...h.h..h.......\tXR:Z:GA\tXG:Z:CT\n",
            "SRR5836473.46_46/1\t83\tchr11\t22771774\t8\t140M\t=\t22771594\t-320\tCAAATTAAAAAAAAAAAAATAAAAATATCACTTTTTACAAATAATATAATAATATATATAAATAACCCTAAAAATTCTATCACAAAACTCCTAAACCTAATAAACAACTTCAATAAAATAACTAAATATAAAATTAACTC\tKKKKAAKKKKKKKKKKKKKKKKKKKKKKKKKKKKKKKKKKKKKKKKKKKKKKKKKKKKKKKKKKKKKKKKKKKKKKKKKKKKKKKKKKKKKKKKKKKKKKKKKKKKKKKKKKKKKKKKKKKKKKKKKKKKKKKKKKKKKK\tNM:i:26\tMD:Z:6G0G4G2G2G1C15G2G2G4G3G9G1G13C1C2G1G9G3G7G5G1G2G2G2G0G15\tXM:Z:......hh....h..h..h.................h..x..h....h...h.........h.h....................h.........h...x.......x.....x.h..h..h..xh...............\tXR:Z:CT\tXG:Z:GA\n",
            "SRR5836473.46_46/1\t163\tchr11\t22771594\t8\t140M\t=\t22771774\t320\tAGAATAAAAACAATCTACAACAAACCAATAACCAACATCAAAATAAATAATAAAAAACTAAAAACAATCCCACTAAAATCAAAAACTAAACAAAACTACCCACTTTCTCCCTACCTATTCAACATTATACTTAAAATCCT\tFKKKKKKKKKKKKKKKKKKKKKKKKKKKKKKKKKKKKKKKKKKKKKKKKKKKKKKKKKKKKKKKKKKKKKKKKKKKKKKKKAKKKKKKKKKKKKKKKKKKKKKKKKFFKFKKKKKKFKKKKKKK<AKKKKKKFFF7<A<K\tNM:i:25\tMD:Z:1T0G6G9G7G2G11G5G0G1G1G2G2G0G2G17G0G0G4G4G0G2G28G5G2G4\tXM:Z:..h......h.........x.......x..h...........h.....hh.h.h..h..xh..h.................xhh....h....hh..x............................h.....h..h....\tXR:Z:GA\tXG:Z:GA\n"
          ]
        }
      ]
    },
    {
      "cell_type": "code",
      "source": [
        "!samtools sort SRR5836473_1_bismark_bt2_pe.bam -o sorted_8cell.bam\n",
        "!samtools sort SRR3824222_1_bismark_bt2_pe.bam -o sorted_Epiblast.bam\n",
        "!samtools sort SRR5836475_1_bismark_bt2_pe.bam -o sorted_ICM.bam"
      ],
      "metadata": {
        "id": "zRDPsh3QcO6j",
        "colab": {
          "base_uri": "https://localhost:8080/"
        },
        "outputId": "2bd09a44-a18e-4720-960a-6202b3ad4fb6"
      },
      "execution_count": null,
      "outputs": [
        {
          "output_type": "stream",
          "name": "stdout",
          "text": [
            "[bam_sort_core] merging from 5 files...\n",
            "[bam_sort_core] merging from 11 files...\n",
            "[bam_sort_core] merging from 7 files...\n"
          ]
        }
      ]
    },
    {
      "cell_type": "code",
      "source": [
        "!samtools index  sorted_8cell.bam\n",
        "!samtools index  sorted_Epiblast.bam\n",
        "!samtools index  sorted_ICM.bam"
      ],
      "metadata": {
        "id": "ONr6qaPUcn9B"
      },
      "execution_count": null,
      "outputs": []
    },
    {
      "cell_type": "markdown",
      "source": [
        "###Сколько ридов закартировалось на регионы\n",
        "\n",
        "*   11347700-11367700\n",
        "*   40185800-40195800\n",
        "\n"
      ],
      "metadata": {
        "id": "YSCrSjhddJa1"
      }
    },
    {
      "cell_type": "code",
      "source": [
        "!samtools view sorted_8cell.bam chr11:11347700-11367700 | cut -f1 | sort -u | wc -l\n",
        "!samtools view sorted_Epiblast.bam chr11:11347700-11367700 | cut -f1 | sort -u | wc -l\n",
        "!samtools view sorted_ICM.bam chr11:11347700-11367700 | cut -f1 | sort -u | wc -l"
      ],
      "metadata": {
        "id": "v-K_XWAVdpqd",
        "colab": {
          "base_uri": "https://localhost:8080/"
        },
        "outputId": "4edf22a2-b7c7-4752-c807-1a3e2d9cc95e"
      },
      "execution_count": null,
      "outputs": [
        {
          "output_type": "stream",
          "name": "stdout",
          "text": [
            "1090\n",
            "2328\n",
            "1456\n"
          ]
        }
      ]
    },
    {
      "cell_type": "code",
      "source": [
        "!samtools view sorted_8cell.bam chr11:40185800-40195800 | cut -f1 | sort -u | wc -l\n",
        "!samtools view sorted_Epiblast.bam chr11:40185800-40195800 | cut -f1 | sort -u | wc -l\n",
        "!samtools view sorted_ICM.bam chr11:40185800-40195800 | cut -f1 | sort -u | wc -l"
      ],
      "metadata": {
        "id": "say2OHicd8xw",
        "colab": {
          "base_uri": "https://localhost:8080/"
        },
        "outputId": "46523949-0f03-40f9-8be0-c456db4015df"
      },
      "execution_count": null,
      "outputs": [
        {
          "output_type": "stream",
          "name": "stdout",
          "text": [
            "464\n",
            "1062\n",
            "630\n"
          ]
        }
      ]
    },
    {
      "cell_type": "markdown",
      "source": [
        "###Дедупликация"
      ],
      "metadata": {
        "id": "FtgxrNCAeH5-"
      }
    },
    {
      "cell_type": "code",
      "source": [
        "!deduplicate_bismark  --bam  --paired  -o s_8_cell  SRR5836473_1_bismark_bt2_pe.bam"
      ],
      "metadata": {
        "id": "CSsgk_80eJm2",
        "colab": {
          "base_uri": "https://localhost:8080/"
        },
        "outputId": "1b8e74e4-cbad-43ef-b3c5-8667f6fe6b92"
      },
      "execution_count": null,
      "outputs": [
        {
          "output_type": "stream",
          "name": "stdout",
          "text": [
            "Output filename was given as: s_8_cell\n",
            "Processing paired-end Bismark output file(s) (SAM format):\n",
            "SRR5836473_1_bismark_bt2_pe.bam\n",
            "\n",
            "\n",
            "If there are several alignments to a single position in the genome the first alignment will be chosen. Since the input files are not in any way sorted this is a near-enough random selection of reads.\n",
            "\n",
            "Checking file >>SRR5836473_1_bismark_bt2_pe.bam<< for signs of file truncation...\n",
            "\n",
            "\n",
            "\n",
            "Now testing Bismark result file SRR5836473_1_bismark_bt2_pe.bam for positional sorting (which would be bad...)\t...passed!\n",
            "Output file is: s_8_cell.deduplicated.bam\n",
            "\n",
            "skipping header line:\t@HD\tVN:1.0\tSO:unsorted\n",
            "skipping header line:\t@SQ\tSN:chr11\tLN:122082543\n",
            "skipping header line:\t@PG\tID:Bismark\tVN:v0.23.1dev\tCL:\"bismark -p 2 --gzip mouse_chr -1 data/SRR5836473_1.fastq.gz -2 data/SRR5836473_2.fastq.gz -o cell8/\"\n",
            "\n",
            "Total number of alignments analysed in SRR5836473_1_bismark_bt2_pe.bam:\t2850231\n",
            "Total number duplicated alignments removed:\t521904 (18.31%)\n",
            "Duplicated alignments were found at:\t230432 different position(s)\n",
            "\n",
            "Total count of deduplicated leftover sequences: 2328327 (81.69% of total)\n",
            "\n"
          ]
        }
      ]
    },
    {
      "cell_type": "code",
      "source": [
        "!deduplicate_bismark  --bam  --paired  -o s_Epiblast  SRR3824222_1_bismark_bt2_pe.bam"
      ],
      "metadata": {
        "colab": {
          "base_uri": "https://localhost:8080/"
        },
        "id": "Ky7TuopN9ktg",
        "outputId": "56b50360-3064-47b1-c113-17ab666059c0"
      },
      "execution_count": null,
      "outputs": [
        {
          "output_type": "stream",
          "name": "stdout",
          "text": [
            "Output filename was given as: s_Epiblast\n",
            "Processing paired-end Bismark output file(s) (SAM format):\n",
            "SRR3824222_1_bismark_bt2_pe.bam\n",
            "\n",
            "\n",
            "If there are several alignments to a single position in the genome the first alignment will be chosen. Since the input files are not in any way sorted this is a near-enough random selection of reads.\n",
            "\n",
            "Checking file >>SRR3824222_1_bismark_bt2_pe.bam<< for signs of file truncation...\n",
            "\n",
            "\n",
            "\n",
            "Now testing Bismark result file SRR3824222_1_bismark_bt2_pe.bam for positional sorting (which would be bad...)\t...passed!\n",
            "Output file is: s_Epiblast.deduplicated.bam\n",
            "\n",
            "skipping header line:\t@HD\tVN:1.0\tSO:unsorted\n",
            "skipping header line:\t@SQ\tSN:chr11\tLN:122082543\n",
            "skipping header line:\t@PG\tID:Bismark\tVN:v0.23.1dev\tCL:\"bismark -p 2 --gzip mouse_chr -1 data/SRR3824222_1.fastq.gz -2 data/SRR3824222_2.fastq.gz -o epiblast/\"\n",
            "\n",
            "Total number of alignments analysed in SRR3824222_1_bismark_bt2_pe.bam:\t7039016\n",
            "Total number duplicated alignments removed:\t205258 (2.92%)\n",
            "Duplicated alignments were found at:\t164796 different position(s)\n",
            "\n",
            "Total count of deduplicated leftover sequences: 6833758 (97.08% of total)\n",
            "\n"
          ]
        }
      ]
    },
    {
      "cell_type": "code",
      "source": [
        "!deduplicate_bismark  --bam  --paired  -o s_ICM  SRR5836475_1_bismark_bt2_pe.bam"
      ],
      "metadata": {
        "colab": {
          "base_uri": "https://localhost:8080/"
        },
        "id": "2BGxmp_Q9iS3",
        "outputId": "21a717cb-94bb-4be6-bca0-40890c040f80"
      },
      "execution_count": null,
      "outputs": [
        {
          "output_type": "stream",
          "name": "stdout",
          "text": [
            "Output filename was given as: s_ICM\n",
            "Processing paired-end Bismark output file(s) (SAM format):\n",
            "SRR5836475_1_bismark_bt2_pe.bam\n",
            "\n",
            "\n",
            "If there are several alignments to a single position in the genome the first alignment will be chosen. Since the input files are not in any way sorted this is a near-enough random selection of reads.\n",
            "\n",
            "Checking file >>SRR5836475_1_bismark_bt2_pe.bam<< for signs of file truncation...\n",
            "\n",
            "\n",
            "\n",
            "Now testing Bismark result file SRR5836475_1_bismark_bt2_pe.bam for positional sorting (which would be bad...)\t...passed!\n",
            "Output file is: s_ICM.deduplicated.bam\n",
            "\n",
            "skipping header line:\t@HD\tVN:1.0\tSO:unsorted\n",
            "skipping header line:\t@SQ\tSN:chr11\tLN:122082543\n",
            "skipping header line:\t@PG\tID:Bismark\tVN:v0.23.1dev\tCL:\"bismark --gzip mouse_chr -1 data/SRR5836475_1.fastq.gz -2 data/SRR5836475_2.fastq.gz -o ICM/\"\n",
            "\n",
            "Total number of alignments analysed in SRR5836475_1_bismark_bt2_pe.bam:\t4159998\n",
            "Total number duplicated alignments removed:\t377882 (9.08%)\n",
            "Duplicated alignments were found at:\t229833 different position(s)\n",
            "\n",
            "Total count of deduplicated leftover sequences: 3782116 (90.92% of total)\n",
            "\n"
          ]
        }
      ]
    },
    {
      "cell_type": "markdown",
      "source": [
        "### Коллинг метилирования"
      ],
      "metadata": {
        "id": "SPzXYK9euZyz"
      }
    },
    {
      "cell_type": "code",
      "source": [
        "drive.mount('/content/drive')\n",
        "!cp /content/drive/MyDrive/mouse_chr.zip /content/mouse_chr.zip\n",
        "!unzip mouse_chr.zip"
      ],
      "metadata": {
        "colab": {
          "base_uri": "https://localhost:8080/"
        },
        "id": "XXM_GW27kz2L",
        "outputId": "ce9e5e2d-4d09-4b0f-e23a-d70722ded402"
      },
      "execution_count": null,
      "outputs": [
        {
          "output_type": "stream",
          "name": "stdout",
          "text": [
            "Drive already mounted at /content/drive; to attempt to forcibly remount, call drive.mount(\"/content/drive\", force_remount=True).\n",
            "Archive:  mouse_chr.zip\n",
            "   creating: mouse_chr/\n",
            "   creating: mouse_chr/Bisulfite_Genome/\n",
            "   creating: mouse_chr/Bisulfite_Genome/CT_conversion/\n",
            "  inflating: mouse_chr/Bisulfite_Genome/CT_conversion/genome_mfa.CT_conversion.fa  \n",
            "  inflating: mouse_chr/Bisulfite_Genome/CT_conversion/BS_CT.4.bt2  \n",
            "  inflating: mouse_chr/Bisulfite_Genome/CT_conversion/BS_CT.1.bt2  \n",
            "  inflating: mouse_chr/Bisulfite_Genome/CT_conversion/BS_CT.3.bt2  \n",
            "  inflating: mouse_chr/Bisulfite_Genome/CT_conversion/BS_CT.2.bt2  \n",
            "  inflating: mouse_chr/Bisulfite_Genome/CT_conversion/BS_CT.rev.2.bt2  \n",
            "  inflating: mouse_chr/Bisulfite_Genome/CT_conversion/BS_CT.rev.1.bt2  \n",
            "   creating: mouse_chr/Bisulfite_Genome/GA_conversion/\n",
            "  inflating: mouse_chr/Bisulfite_Genome/GA_conversion/BS_GA.rev.1.bt2  \n",
            "  inflating: mouse_chr/Bisulfite_Genome/GA_conversion/BS_GA.rev.2.bt2  \n",
            "  inflating: mouse_chr/Bisulfite_Genome/GA_conversion/genome_mfa.GA_conversion.fa  \n",
            "  inflating: mouse_chr/Bisulfite_Genome/GA_conversion/BS_GA.4.bt2  \n",
            "  inflating: mouse_chr/Bisulfite_Genome/GA_conversion/BS_GA.1.bt2  \n",
            "  inflating: mouse_chr/Bisulfite_Genome/GA_conversion/BS_GA.2.bt2  \n",
            "  inflating: mouse_chr/Bisulfite_Genome/GA_conversion/BS_GA.3.bt2  \n",
            "  inflating: mouse_chr/chr11.fa      \n"
          ]
        }
      ]
    },
    {
      "cell_type": "code",
      "source": [
        "!bismark_methylation_extractor --gzip --bedGraph --cytosine_report --genome_folder ./mouse_chr s_8_cell.deduplicated.bam"
      ],
      "metadata": {
        "id": "vAA31ytHuhg3",
        "colab": {
          "base_uri": "https://localhost:8080/"
        },
        "outputId": "981f27f4-f4a2-448e-977d-55043d397130"
      },
      "execution_count": null,
      "outputs": [
        {
          "output_type": "stream",
          "name": "stdout",
          "text": [
            "\n",
            " *** Bismark methylation extractor version v0.24.0 ***\n",
            "\n",
            "Trying to determine the type of mapping from the SAM header line of file s_8_cell.deduplicated.bam\n",
            "Treating file(s) as paired-end data (as extracted from @PG line)\n",
            "\n",
            "Setting option '--no_overlap' since this is (normally) the right thing to do for paired-end data\n",
            "\n",
            "\n",
            "Setting core usage to single-threaded (default). Consider using --multicore <int> to speed up the extraction process.\n",
            "\n",
            "Summarising Bismark methylation extractor parameters:\n",
            "===============================================================\n",
            "Bismark paired-end SAM format specified (default)\n",
            "Number of cores to be used: 1\n",
            "Output will be written to the current directory ('/content')\n",
            "\n",
            "\n",
            "Summarising bedGraph parameters:\n",
            "===============================================================\n",
            "Generating additional output in bedGraph and coverage format\n",
            "bedGraph format:\t<Chromosome> <Start Position> <End Position> <Methylation Percentage>\n",
            "coverage format:\t<Chromosome> <Start Position> <End Position> <Methylation Percentage> <count methylated> <count non-methylated>\n",
            "\n",
            "Using a cutoff of 1 read(s) to report cytosine positions\n",
            "Reporting and sorting cytosine methylation information in CpG context only (default)\n",
            "The bedGraph UNIX sort command will use the following memory setting:\t'2G'. Temporary directory used for sorting is the output directory\n",
            "\n",
            "\n",
            "Summarising genome-wide cytosine methylation report parameters:\n",
            "===============================================================\n",
            "Generating comprehensive genome-wide cytosine report\n",
            "(output format: <Chromosome> <Position> <Strand> <count methylated> <count non-methylated>  <C-context>  <trinucleotide context> )\n",
            "Reporting cytosine methylation in CpG context only (default)\n",
            "Using 1-based genomic coordinates (default)\n",
            "Genome folder was specified as ./mouse_chr/\n",
            "\n",
            "Checking file >>s_8_cell.deduplicated.bam<< for signs of file truncation...\n",
            "\n",
            "\n",
            "Now testing Bismark result file >s_8_cell.deduplicated.bam< for positional sorting (which would be bad...)\t...passed!\n",
            "Writing result file containing methylation information for C in CpG context from the original top strand to CpG_OT_s_8_cell.deduplicated.txt.gz\n",
            "Writing result file containing methylation information for C in CpG context from the complementary to original top strand to CpG_CTOT_s_8_cell.deduplicated.txt.gz\n",
            "Writing result file containing methylation information for C in CpG context from the complementary to original bottom strand to CpG_CTOB_s_8_cell.deduplicated.txt.gz\n",
            "Writing result file containing methylation information for C in CpG context from the original bottom strand to CpG_OB_s_8_cell.deduplicated.txt.gz\n",
            "\n",
            "Writing result file containing methylation information for C in CHG context from the original top strand to CHG_OT_s_8_cell.deduplicated.txt.gz\n",
            "Writing result file containing methylation information for C in CHG context from the complementary to original top strand to CHG_CTOT_s_8_cell.deduplicated.txt.gz\n",
            "Writing result file containing methylation information for C in CHG context from the complementary to original bottom strand to CHG_CTOB_s_8_cell.deduplicated.txt.gz\n",
            "Writing result file containing methylation information for C in CHG context from the original bottom strand to CHG_OB_s_8_cell.deduplicated.txt.gz\n",
            "\n",
            "Writing result file containing methylation information for C in CHH context from the original top strand to CHH_OT_s_8_cell.deduplicated.txt.gz\n",
            "Writing result file containing methylation information for C in CHH context from the complementary to original top strand to CHH_CTOT_s_8_cell.deduplicated.txt.gz\n",
            "Writing result file containing methylation information for C in CHH context from the complementary to original bottom strand to CHH_CTOB_s_8_cell.deduplicated.txt.gz\n",
            "Writing result file containing methylation information for C in CHH context from the original bottom strand to CHH_OB_s_8_cell.deduplicated.txt.gz\n",
            "\n",
            "Now reading in Bismark result file s_8_cell.deduplicated.bam\n",
            "skipping SAM header line:\t@HD\tVN:1.0\tSO:unsorted\n",
            "skipping SAM header line:\t@SQ\tSN:chr11\tLN:122082543\n",
            "skipping SAM header line:\t@PG\tID:Bismark\tVN:v0.23.1dev\tCL:\"bismark -p 2 --gzip mouse_chr -1 data/SRR5836473_1.fastq.gz -2 data/SRR5836473_2.fastq.gz -o cell8/\"\n",
            "Processed lines: 500000\n",
            "Processed lines: 1000000\n",
            "Processed lines: 1500000\n",
            "Processed lines: 2000000\n",
            "\n",
            "Processed 2328327 lines in total\n",
            "Total number of methylation call strings processed: 4656654\n",
            "\n",
            "Final Cytosine Methylation Report\n",
            "=================================\n",
            "Total number of C's analysed:\t104224209\n",
            "\n",
            "Total methylated C's in CpG context:\t2101489\n",
            "Total methylated C's in CHG context:\t269204\n",
            "Total methylated C's in CHH context:\t944695\n",
            "\n",
            "Total C to T conversions in CpG context:\t2731177\n",
            "Total C to T conversions in CHG context:\t22964928\n",
            "Total C to T conversions in CHH context:\t75212716\n",
            "\n",
            "C methylated in CpG context:\t43.5%\n",
            "C methylated in CHG context:\t1.2%\n",
            "C methylated in CHH context:\t1.2%\n",
            "\n",
            "\n",
            "Determining maximum read lengths for M-Bias plots\n",
            "Maximum read length of Read 1: 140\n",
            "Maximum read length of Read 2: 140\n",
            "\n",
            "Perl module GD::Graph::lines is not installed, skipping drawing M-bias plots (only writing out M-bias plot table)\n",
            "Determining maximum read lengths for M-Bias plots\n",
            "Maximum read length of Read 1: 140\n",
            "Maximum read length of Read 2: 140\n",
            "\n",
            "Perl module GD::Graph::lines is not installed, skipping drawing M-bias plots (only writing out M-bias plot table)\n",
            "Deleting unused files ...\n",
            "\n",
            "CpG_OT_s_8_cell.deduplicated.txt.gz contains data ->\tkept\n",
            "CpG_CTOT_s_8_cell.deduplicated.txt.gz was empty ->\tdeleted\n",
            "CpG_CTOB_s_8_cell.deduplicated.txt.gz was empty ->\tdeleted\n",
            "CpG_OB_s_8_cell.deduplicated.txt.gz contains data ->\tkept\n",
            "CHG_OT_s_8_cell.deduplicated.txt.gz contains data ->\tkept\n",
            "CHG_CTOT_s_8_cell.deduplicated.txt.gz was empty ->\tdeleted\n",
            "CHG_CTOB_s_8_cell.deduplicated.txt.gz was empty ->\tdeleted\n",
            "CHG_OB_s_8_cell.deduplicated.txt.gz contains data ->\tkept\n",
            "CHH_OT_s_8_cell.deduplicated.txt.gz contains data ->\tkept\n",
            "CHH_CTOT_s_8_cell.deduplicated.txt.gz was empty ->\tdeleted\n",
            "CHH_CTOB_s_8_cell.deduplicated.txt.gz was empty ->\tdeleted\n",
            "CHH_OB_s_8_cell.deduplicated.txt.gz contains data ->\tkept\n",
            "\n",
            "\n",
            "Using these input files: CpG_OT_s_8_cell.deduplicated.txt.gz CpG_OB_s_8_cell.deduplicated.txt.gz CHG_OT_s_8_cell.deduplicated.txt.gz CHG_OB_s_8_cell.deduplicated.txt.gz CHH_OT_s_8_cell.deduplicated.txt.gz CHH_OB_s_8_cell.deduplicated.txt.gz\n",
            "\n",
            "Summary of parameters for bismark2bedGraph conversion:\n",
            "======================================================\n",
            "bedGraph output:\t\ts_8_cell.deduplicated.bedGraph.gz\n",
            "output directory:\t\t><\n",
            "remove whitespaces:\t\tno\n",
            "CX context:\t\t\tno (CpG context only, default)\n",
            "No-header selected:\t\tno\n",
            "Sorting method:\t\t\tUnix sort-based (smaller memory footprint, but slower)\n",
            "Sort buffer size:\t\t2G\n",
            "Coverage threshold:\t\t1\n",
            "=============================================================================\n",
            "Methylation information will now be written into a bedGraph and coverage file\n",
            "=============================================================================\n",
            "\n",
            "Using the following files as Input:\n",
            "/content/CpG_OT_s_8_cell.deduplicated.txt.gz\t/content/CpG_OB_s_8_cell.deduplicated.txt.gz\n",
            "\n",
            "Writing bedGraph to file: s_8_cell.deduplicated.bedGraph.gz\n",
            "Also writing out a coverage file including counts methylated and unmethylated residues to file: s_8_cell.deduplicated.bismark.cov.gz\n",
            "\n",
            "Now writing methylation information for file >>CpG_OT_s_8_cell.deduplicated.txt.gz<< to individual files for each chromosome\n",
            "Finished writing out individual chromosome files for CpG_OT_s_8_cell.deduplicated.txt.gz\n",
            "Now writing methylation information for file >>CpG_OB_s_8_cell.deduplicated.txt.gz<< to individual files for each chromosome\n",
            "Finished writing out individual chromosome files for CpG_OB_s_8_cell.deduplicated.txt.gz\n",
            "\n",
            "Collecting temporary chromosome file information... Processing the following input file(s):\n",
            "CpG_OT_s_8_cell.deduplicated.txt.gz.chrchr11.methXtractor.temp\n",
            "\n",
            "Sorting input file CpG_OT_s_8_cell.deduplicated.txt.gz.chrchr11.methXtractor.temp by positions (using -S of 2G)\n",
            "Successfully deleted the temporary input file CpG_OT_s_8_cell.deduplicated.txt.gz.chrchr11.methXtractor.temp\n",
            "\n",
            "Finished BedGraph conversion ...\n",
            "\n",
            "Summary of parameters for genome-wide cytosine report:\n",
            "==============================================================================\n",
            "Coverage infile:\t\t\t\ts_8_cell.deduplicated.bismark.cov.gz\n",
            "Output directory:\t\t\t\t><\n",
            "Parent directory:\t\t\t\t>/content/<\n",
            "Genome directory:\t\t\t\t>/content/mouse_chr/<\n",
            "Coverage threshold\t\t\t\t0 (all positions will be reported, default)\n",
            "CX context:\t\t\t\t\tno (CpG context only, default)\n",
            "Genome coordinates used:\t\t\t1-based (default)\n",
            "GZIP compression:\t\t\t\tyes\n",
            "Split by chromosome:\t\t\t\tno\n",
            "\n",
            "\n",
            "Now reading in and storing sequence information of the genome specified in: /content/mouse_chr/\n",
            "\n",
            "chr chr11 (122082543 bp)\n",
            "\n",
            "Stored sequence information of 1 chromosomes/scaffolds in total\n",
            "\n",
            "==============================================================================\n",
            "Methylation information will now be written into a genome-wide cytosine report\n",
            "==============================================================================\n",
            "\n",
            "Adding context-specific methylation summaries\n",
            "\n",
            ">>> Writing genome-wide cytosine report to: s_8_cell.deduplicated.CpG_report.txt.gz <<<\n",
            "\n",
            ">>> Writing all cytosine context summary file to: s_8_cell.deduplicated.cytosine_context_summary.txt <<<\n",
            "\n",
            "Storing all covered cytosine positions for chromosome: chr11\n",
            "Writing cytosine report for last chromosome chr11 (stored 1736778 different covered positions)\n",
            "Finished writing out cytosine report for covered chromosomes (processed 1 chromosomes/scaffolds in total)\n",
            "\n",
            "Now processing chromosomes that were not covered by any methylation calls in the coverage file...\n",
            "All chromosomes in the genome were covered by at least some reads. coverage2cytosine processing complete.\n",
            "\n",
            "\n",
            "\n",
            "Finished generating genome-wide cytosine report\n",
            "\n"
          ]
        }
      ]
    },
    {
      "cell_type": "code",
      "source": [
        "!bismark_methylation_extractor --gzip --bedGraph --cytosine_report --genome_folder ./mouse_chr s_Epiblast.deduplicated.bam"
      ],
      "metadata": {
        "colab": {
          "base_uri": "https://localhost:8080/"
        },
        "id": "p5nbQxPw9drb",
        "outputId": "55560803-16ae-4077-b4e1-1fa6903751d8"
      },
      "execution_count": null,
      "outputs": [
        {
          "output_type": "stream",
          "name": "stdout",
          "text": [
            "\n",
            " *** Bismark methylation extractor version v0.24.0 ***\n",
            "\n",
            "Trying to determine the type of mapping from the SAM header line of file s_Epiblast.deduplicated.bam\n",
            "Treating file(s) as paired-end data (as extracted from @PG line)\n",
            "\n",
            "Setting option '--no_overlap' since this is (normally) the right thing to do for paired-end data\n",
            "\n",
            "\n",
            "Setting core usage to single-threaded (default). Consider using --multicore <int> to speed up the extraction process.\n",
            "\n",
            "Summarising Bismark methylation extractor parameters:\n",
            "===============================================================\n",
            "Bismark paired-end SAM format specified (default)\n",
            "Number of cores to be used: 1\n",
            "Output will be written to the current directory ('/content')\n",
            "\n",
            "\n",
            "Summarising bedGraph parameters:\n",
            "===============================================================\n",
            "Generating additional output in bedGraph and coverage format\n",
            "bedGraph format:\t<Chromosome> <Start Position> <End Position> <Methylation Percentage>\n",
            "coverage format:\t<Chromosome> <Start Position> <End Position> <Methylation Percentage> <count methylated> <count non-methylated>\n",
            "\n",
            "Using a cutoff of 1 read(s) to report cytosine positions\n",
            "Reporting and sorting cytosine methylation information in CpG context only (default)\n",
            "The bedGraph UNIX sort command will use the following memory setting:\t'2G'. Temporary directory used for sorting is the output directory\n",
            "\n",
            "\n",
            "Summarising genome-wide cytosine methylation report parameters:\n",
            "===============================================================\n",
            "Generating comprehensive genome-wide cytosine report\n",
            "(output format: <Chromosome> <Position> <Strand> <count methylated> <count non-methylated>  <C-context>  <trinucleotide context> )\n",
            "Reporting cytosine methylation in CpG context only (default)\n",
            "Using 1-based genomic coordinates (default)\n",
            "Genome folder was specified as ./mouse_chr/\n",
            "\n",
            "Checking file >>s_Epiblast.deduplicated.bam<< for signs of file truncation...\n",
            "\n",
            "\n",
            "Now testing Bismark result file >s_Epiblast.deduplicated.bam< for positional sorting (which would be bad...)\t...passed!\n",
            "Writing result file containing methylation information for C in CpG context from the original top strand to CpG_OT_s_Epiblast.deduplicated.txt.gz\n",
            "Writing result file containing methylation information for C in CpG context from the complementary to original top strand to CpG_CTOT_s_Epiblast.deduplicated.txt.gz\n",
            "Writing result file containing methylation information for C in CpG context from the complementary to original bottom strand to CpG_CTOB_s_Epiblast.deduplicated.txt.gz\n",
            "Writing result file containing methylation information for C in CpG context from the original bottom strand to CpG_OB_s_Epiblast.deduplicated.txt.gz\n",
            "\n",
            "Writing result file containing methylation information for C in CHG context from the original top strand to CHG_OT_s_Epiblast.deduplicated.txt.gz\n",
            "Writing result file containing methylation information for C in CHG context from the complementary to original top strand to CHG_CTOT_s_Epiblast.deduplicated.txt.gz\n",
            "Writing result file containing methylation information for C in CHG context from the complementary to original bottom strand to CHG_CTOB_s_Epiblast.deduplicated.txt.gz\n",
            "Writing result file containing methylation information for C in CHG context from the original bottom strand to CHG_OB_s_Epiblast.deduplicated.txt.gz\n",
            "\n",
            "Writing result file containing methylation information for C in CHH context from the original top strand to CHH_OT_s_Epiblast.deduplicated.txt.gz\n",
            "Writing result file containing methylation information for C in CHH context from the complementary to original top strand to CHH_CTOT_s_Epiblast.deduplicated.txt.gz\n",
            "Writing result file containing methylation information for C in CHH context from the complementary to original bottom strand to CHH_CTOB_s_Epiblast.deduplicated.txt.gz\n",
            "Writing result file containing methylation information for C in CHH context from the original bottom strand to CHH_OB_s_Epiblast.deduplicated.txt.gz\n",
            "\n",
            "Now reading in Bismark result file s_Epiblast.deduplicated.bam\n",
            "skipping SAM header line:\t@HD\tVN:1.0\tSO:unsorted\n",
            "skipping SAM header line:\t@SQ\tSN:chr11\tLN:122082543\n",
            "skipping SAM header line:\t@PG\tID:Bismark\tVN:v0.23.1dev\tCL:\"bismark -p 2 --gzip mouse_chr -1 data/SRR3824222_1.fastq.gz -2 data/SRR3824222_2.fastq.gz -o epiblast/\"\n",
            "Processed lines: 500000\n",
            "Processed lines: 1000000\n",
            "Processed lines: 1500000\n",
            "Processed lines: 2000000\n",
            "Processed lines: 2500000\n",
            "Processed lines: 3000000\n",
            "Processed lines: 3500000\n",
            "Processed lines: 4000000\n",
            "Processed lines: 4500000\n",
            "Processed lines: 5000000\n",
            "Processed lines: 5500000\n",
            "Processed lines: 6000000\n",
            "Processed lines: 6500000\n",
            "\n",
            "Processed 6833758 lines in total\n",
            "Total number of methylation call strings processed: 13667516\n",
            "\n",
            "Final Cytosine Methylation Report\n",
            "=================================\n",
            "Total number of C's analysed:\t330808061\n",
            "\n",
            "Total methylated C's in CpG context:\t11544557\n",
            "Total methylated C's in CHG context:\t1572954\n",
            "Total methylated C's in CHH context:\t3695988\n",
            "\n",
            "Total C to T conversions in CpG context:\t3465254\n",
            "Total C to T conversions in CHG context:\t71995231\n",
            "Total C to T conversions in CHH context:\t238534077\n",
            "\n",
            "C methylated in CpG context:\t76.9%\n",
            "C methylated in CHG context:\t2.1%\n",
            "C methylated in CHH context:\t1.5%\n",
            "\n",
            "\n",
            "Determining maximum read lengths for M-Bias plots\n",
            "Maximum read length of Read 1: 140\n",
            "Maximum read length of Read 2: 140\n",
            "\n",
            "Perl module GD::Graph::lines is not installed, skipping drawing M-bias plots (only writing out M-bias plot table)\n",
            "Determining maximum read lengths for M-Bias plots\n",
            "Maximum read length of Read 1: 140\n",
            "Maximum read length of Read 2: 140\n",
            "\n",
            "Perl module GD::Graph::lines is not installed, skipping drawing M-bias plots (only writing out M-bias plot table)\n",
            "Deleting unused files ...\n",
            "\n",
            "CpG_OT_s_Epiblast.deduplicated.txt.gz contains data ->\tkept\n",
            "CpG_CTOT_s_Epiblast.deduplicated.txt.gz was empty ->\tdeleted\n",
            "CpG_CTOB_s_Epiblast.deduplicated.txt.gz was empty ->\tdeleted\n",
            "CpG_OB_s_Epiblast.deduplicated.txt.gz contains data ->\tkept\n",
            "CHG_OT_s_Epiblast.deduplicated.txt.gz contains data ->\tkept\n",
            "CHG_CTOT_s_Epiblast.deduplicated.txt.gz was empty ->\tdeleted\n",
            "CHG_CTOB_s_Epiblast.deduplicated.txt.gz was empty ->\tdeleted\n",
            "CHG_OB_s_Epiblast.deduplicated.txt.gz contains data ->\tkept\n",
            "CHH_OT_s_Epiblast.deduplicated.txt.gz contains data ->\tkept\n",
            "CHH_CTOT_s_Epiblast.deduplicated.txt.gz was empty ->\tdeleted\n",
            "CHH_CTOB_s_Epiblast.deduplicated.txt.gz was empty ->\tdeleted\n",
            "CHH_OB_s_Epiblast.deduplicated.txt.gz contains data ->\tkept\n",
            "\n",
            "\n",
            "Using these input files: CpG_OT_s_Epiblast.deduplicated.txt.gz CpG_OB_s_Epiblast.deduplicated.txt.gz CHG_OT_s_Epiblast.deduplicated.txt.gz CHG_OB_s_Epiblast.deduplicated.txt.gz CHH_OT_s_Epiblast.deduplicated.txt.gz CHH_OB_s_Epiblast.deduplicated.txt.gz\n",
            "\n",
            "Summary of parameters for bismark2bedGraph conversion:\n",
            "======================================================\n",
            "bedGraph output:\t\ts_Epiblast.deduplicated.bedGraph.gz\n",
            "output directory:\t\t><\n",
            "remove whitespaces:\t\tno\n",
            "CX context:\t\t\tno (CpG context only, default)\n",
            "No-header selected:\t\tno\n",
            "Sorting method:\t\t\tUnix sort-based (smaller memory footprint, but slower)\n",
            "Sort buffer size:\t\t2G\n",
            "Coverage threshold:\t\t1\n",
            "=============================================================================\n",
            "Methylation information will now be written into a bedGraph and coverage file\n",
            "=============================================================================\n",
            "\n",
            "Using the following files as Input:\n",
            "/content/CpG_OT_s_Epiblast.deduplicated.txt.gz\t/content/CpG_OB_s_Epiblast.deduplicated.txt.gz\n",
            "\n",
            "Writing bedGraph to file: s_Epiblast.deduplicated.bedGraph.gz\n",
            "Also writing out a coverage file including counts methylated and unmethylated residues to file: s_Epiblast.deduplicated.bismark.cov.gz\n",
            "\n",
            "Now writing methylation information for file >>CpG_OT_s_Epiblast.deduplicated.txt.gz<< to individual files for each chromosome\n",
            "Finished writing out individual chromosome files for CpG_OT_s_Epiblast.deduplicated.txt.gz\n",
            "Now writing methylation information for file >>CpG_OB_s_Epiblast.deduplicated.txt.gz<< to individual files for each chromosome\n",
            "Finished writing out individual chromosome files for CpG_OB_s_Epiblast.deduplicated.txt.gz\n",
            "\n",
            "Collecting temporary chromosome file information... Processing the following input file(s):\n",
            "CpG_OT_s_Epiblast.deduplicated.txt.gz.chrchr11.methXtractor.temp\n",
            "\n",
            "Sorting input file CpG_OT_s_Epiblast.deduplicated.txt.gz.chrchr11.methXtractor.temp by positions (using -S of 2G)\n",
            "Successfully deleted the temporary input file CpG_OT_s_Epiblast.deduplicated.txt.gz.chrchr11.methXtractor.temp\n",
            "\n",
            "Finished BedGraph conversion ...\n",
            "\n",
            "Summary of parameters for genome-wide cytosine report:\n",
            "==============================================================================\n",
            "Coverage infile:\t\t\t\ts_Epiblast.deduplicated.bismark.cov.gz\n",
            "Output directory:\t\t\t\t><\n",
            "Parent directory:\t\t\t\t>/content/<\n",
            "Genome directory:\t\t\t\t>/content/mouse_chr/<\n",
            "Coverage threshold\t\t\t\t0 (all positions will be reported, default)\n",
            "CX context:\t\t\t\t\tno (CpG context only, default)\n",
            "Genome coordinates used:\t\t\t1-based (default)\n",
            "GZIP compression:\t\t\t\tyes\n",
            "Split by chromosome:\t\t\t\tno\n",
            "\n",
            "\n",
            "Now reading in and storing sequence information of the genome specified in: /content/mouse_chr/\n",
            "\n",
            "chr chr11 (122082543 bp)\n",
            "\n",
            "Stored sequence information of 1 chromosomes/scaffolds in total\n",
            "\n",
            "==============================================================================\n",
            "Methylation information will now be written into a genome-wide cytosine report\n",
            "==============================================================================\n",
            "\n",
            "Adding context-specific methylation summaries\n",
            "\n",
            ">>> Writing genome-wide cytosine report to: s_Epiblast.deduplicated.CpG_report.txt.gz <<<\n",
            "\n",
            ">>> Writing all cytosine context summary file to: s_Epiblast.deduplicated.cytosine_context_summary.txt <<<\n",
            "\n",
            "Storing all covered cytosine positions for chromosome: chr11\n",
            "Writing cytosine report for last chromosome chr11 (stored 2249610 different covered positions)\n",
            "Finished writing out cytosine report for covered chromosomes (processed 1 chromosomes/scaffolds in total)\n",
            "\n",
            "Now processing chromosomes that were not covered by any methylation calls in the coverage file...\n",
            "All chromosomes in the genome were covered by at least some reads. coverage2cytosine processing complete.\n",
            "\n",
            "\n",
            "\n",
            "Finished generating genome-wide cytosine report\n",
            "\n"
          ]
        }
      ]
    },
    {
      "cell_type": "code",
      "source": [
        "!bismark_methylation_extractor --gzip --bedGraph --cytosine_report --genome_folder ./mouse_chr s_ICM.deduplicated.bam"
      ],
      "metadata": {
        "colab": {
          "base_uri": "https://localhost:8080/"
        },
        "id": "KAKsIpY19d52",
        "outputId": "7e193250-ace5-40ae-968f-4ae0f616c5cf"
      },
      "execution_count": null,
      "outputs": [
        {
          "output_type": "stream",
          "name": "stdout",
          "text": [
            "\n",
            " *** Bismark methylation extractor version v0.24.0 ***\n",
            "\n",
            "Trying to determine the type of mapping from the SAM header line of file s_ICM.deduplicated.bam\n",
            "Treating file(s) as paired-end data (as extracted from @PG line)\n",
            "\n",
            "Setting option '--no_overlap' since this is (normally) the right thing to do for paired-end data\n",
            "\n",
            "\n",
            "Setting core usage to single-threaded (default). Consider using --multicore <int> to speed up the extraction process.\n",
            "\n",
            "Summarising Bismark methylation extractor parameters:\n",
            "===============================================================\n",
            "Bismark paired-end SAM format specified (default)\n",
            "Number of cores to be used: 1\n",
            "Output will be written to the current directory ('/content')\n",
            "\n",
            "\n",
            "Summarising bedGraph parameters:\n",
            "===============================================================\n",
            "Generating additional output in bedGraph and coverage format\n",
            "bedGraph format:\t<Chromosome> <Start Position> <End Position> <Methylation Percentage>\n",
            "coverage format:\t<Chromosome> <Start Position> <End Position> <Methylation Percentage> <count methylated> <count non-methylated>\n",
            "\n",
            "Using a cutoff of 1 read(s) to report cytosine positions\n",
            "Reporting and sorting cytosine methylation information in CpG context only (default)\n",
            "The bedGraph UNIX sort command will use the following memory setting:\t'2G'. Temporary directory used for sorting is the output directory\n",
            "\n",
            "\n",
            "Summarising genome-wide cytosine methylation report parameters:\n",
            "===============================================================\n",
            "Generating comprehensive genome-wide cytosine report\n",
            "(output format: <Chromosome> <Position> <Strand> <count methylated> <count non-methylated>  <C-context>  <trinucleotide context> )\n",
            "Reporting cytosine methylation in CpG context only (default)\n",
            "Using 1-based genomic coordinates (default)\n",
            "Genome folder was specified as ./mouse_chr/\n",
            "\n",
            "Checking file >>s_ICM.deduplicated.bam<< for signs of file truncation...\n",
            "\n",
            "\n",
            "Now testing Bismark result file >s_ICM.deduplicated.bam< for positional sorting (which would be bad...)\t...passed!\n",
            "Writing result file containing methylation information for C in CpG context from the original top strand to CpG_OT_s_ICM.deduplicated.txt.gz\n",
            "Writing result file containing methylation information for C in CpG context from the complementary to original top strand to CpG_CTOT_s_ICM.deduplicated.txt.gz\n",
            "Writing result file containing methylation information for C in CpG context from the complementary to original bottom strand to CpG_CTOB_s_ICM.deduplicated.txt.gz\n",
            "Writing result file containing methylation information for C in CpG context from the original bottom strand to CpG_OB_s_ICM.deduplicated.txt.gz\n",
            "\n",
            "Writing result file containing methylation information for C in CHG context from the original top strand to CHG_OT_s_ICM.deduplicated.txt.gz\n",
            "Writing result file containing methylation information for C in CHG context from the complementary to original top strand to CHG_CTOT_s_ICM.deduplicated.txt.gz\n",
            "Writing result file containing methylation information for C in CHG context from the complementary to original bottom strand to CHG_CTOB_s_ICM.deduplicated.txt.gz\n",
            "Writing result file containing methylation information for C in CHG context from the original bottom strand to CHG_OB_s_ICM.deduplicated.txt.gz\n",
            "\n",
            "Writing result file containing methylation information for C in CHH context from the original top strand to CHH_OT_s_ICM.deduplicated.txt.gz\n",
            "Writing result file containing methylation information for C in CHH context from the complementary to original top strand to CHH_CTOT_s_ICM.deduplicated.txt.gz\n",
            "Writing result file containing methylation information for C in CHH context from the complementary to original bottom strand to CHH_CTOB_s_ICM.deduplicated.txt.gz\n",
            "Writing result file containing methylation information for C in CHH context from the original bottom strand to CHH_OB_s_ICM.deduplicated.txt.gz\n",
            "\n",
            "Now reading in Bismark result file s_ICM.deduplicated.bam\n",
            "skipping SAM header line:\t@HD\tVN:1.0\tSO:unsorted\n",
            "skipping SAM header line:\t@SQ\tSN:chr11\tLN:122082543\n",
            "skipping SAM header line:\t@PG\tID:Bismark\tVN:v0.23.1dev\tCL:\"bismark --gzip mouse_chr -1 data/SRR5836475_1.fastq.gz -2 data/SRR5836475_2.fastq.gz -o ICM/\"\n",
            "Processed lines: 500000\n",
            "Processed lines: 1000000\n",
            "Processed lines: 1500000\n",
            "Processed lines: 2000000\n",
            "Processed lines: 2500000\n",
            "Processed lines: 3000000\n",
            "Processed lines: 3500000\n",
            "\n",
            "Processed 3782116 lines in total\n",
            "Total number of methylation call strings processed: 7564232\n",
            "\n",
            "Final Cytosine Methylation Report\n",
            "=================================\n",
            "Total number of C's analysed:\t177157754\n",
            "\n",
            "Total methylated C's in CpG context:\t1914374\n",
            "Total methylated C's in CHG context:\t297421\n",
            "Total methylated C's in CHH context:\t1066806\n",
            "\n",
            "Total C to T conversions in CpG context:\t6262904\n",
            "Total C to T conversions in CHG context:\t39194423\n",
            "Total C to T conversions in CHH context:\t128421826\n",
            "\n",
            "C methylated in CpG context:\t23.4%\n",
            "C methylated in CHG context:\t0.8%\n",
            "C methylated in CHH context:\t0.8%\n",
            "\n",
            "\n",
            "Determining maximum read lengths for M-Bias plots\n",
            "Maximum read length of Read 1: 140\n",
            "Maximum read length of Read 2: 140\n",
            "\n",
            "Perl module GD::Graph::lines is not installed, skipping drawing M-bias plots (only writing out M-bias plot table)\n",
            "Determining maximum read lengths for M-Bias plots\n",
            "Maximum read length of Read 1: 140\n",
            "Maximum read length of Read 2: 140\n",
            "\n",
            "Perl module GD::Graph::lines is not installed, skipping drawing M-bias plots (only writing out M-bias plot table)\n",
            "Deleting unused files ...\n",
            "\n",
            "CpG_OT_s_ICM.deduplicated.txt.gz contains data ->\tkept\n",
            "CpG_CTOT_s_ICM.deduplicated.txt.gz was empty ->\tdeleted\n",
            "CpG_CTOB_s_ICM.deduplicated.txt.gz was empty ->\tdeleted\n",
            "CpG_OB_s_ICM.deduplicated.txt.gz contains data ->\tkept\n",
            "CHG_OT_s_ICM.deduplicated.txt.gz contains data ->\tkept\n",
            "CHG_CTOT_s_ICM.deduplicated.txt.gz was empty ->\tdeleted\n",
            "CHG_CTOB_s_ICM.deduplicated.txt.gz was empty ->\tdeleted\n",
            "CHG_OB_s_ICM.deduplicated.txt.gz contains data ->\tkept\n",
            "CHH_OT_s_ICM.deduplicated.txt.gz contains data ->\tkept\n",
            "CHH_CTOT_s_ICM.deduplicated.txt.gz was empty ->\tdeleted\n",
            "CHH_CTOB_s_ICM.deduplicated.txt.gz was empty ->\tdeleted\n",
            "CHH_OB_s_ICM.deduplicated.txt.gz contains data ->\tkept\n",
            "\n",
            "\n",
            "Using these input files: CpG_OT_s_ICM.deduplicated.txt.gz CpG_OB_s_ICM.deduplicated.txt.gz CHG_OT_s_ICM.deduplicated.txt.gz CHG_OB_s_ICM.deduplicated.txt.gz CHH_OT_s_ICM.deduplicated.txt.gz CHH_OB_s_ICM.deduplicated.txt.gz\n",
            "\n",
            "Summary of parameters for bismark2bedGraph conversion:\n",
            "======================================================\n",
            "bedGraph output:\t\ts_ICM.deduplicated.bedGraph.gz\n",
            "output directory:\t\t><\n",
            "remove whitespaces:\t\tno\n",
            "CX context:\t\t\tno (CpG context only, default)\n",
            "No-header selected:\t\tno\n",
            "Sorting method:\t\t\tUnix sort-based (smaller memory footprint, but slower)\n",
            "Sort buffer size:\t\t2G\n",
            "Coverage threshold:\t\t1\n",
            "=============================================================================\n",
            "Methylation information will now be written into a bedGraph and coverage file\n",
            "=============================================================================\n",
            "\n",
            "Using the following files as Input:\n",
            "/content/CpG_OT_s_ICM.deduplicated.txt.gz\t/content/CpG_OB_s_ICM.deduplicated.txt.gz\n",
            "\n",
            "Writing bedGraph to file: s_ICM.deduplicated.bedGraph.gz\n",
            "Also writing out a coverage file including counts methylated and unmethylated residues to file: s_ICM.deduplicated.bismark.cov.gz\n",
            "\n",
            "Now writing methylation information for file >>CpG_OT_s_ICM.deduplicated.txt.gz<< to individual files for each chromosome\n",
            "Finished writing out individual chromosome files for CpG_OT_s_ICM.deduplicated.txt.gz\n",
            "Now writing methylation information for file >>CpG_OB_s_ICM.deduplicated.txt.gz<< to individual files for each chromosome\n",
            "Finished writing out individual chromosome files for CpG_OB_s_ICM.deduplicated.txt.gz\n",
            "\n",
            "Collecting temporary chromosome file information... Processing the following input file(s):\n",
            "CpG_OT_s_ICM.deduplicated.txt.gz.chrchr11.methXtractor.temp\n",
            "\n",
            "Sorting input file CpG_OT_s_ICM.deduplicated.txt.gz.chrchr11.methXtractor.temp by positions (using -S of 2G)\n",
            "Successfully deleted the temporary input file CpG_OT_s_ICM.deduplicated.txt.gz.chrchr11.methXtractor.temp\n",
            "\n",
            "Finished BedGraph conversion ...\n",
            "\n",
            "Summary of parameters for genome-wide cytosine report:\n",
            "==============================================================================\n",
            "Coverage infile:\t\t\t\ts_ICM.deduplicated.bismark.cov.gz\n",
            "Output directory:\t\t\t\t><\n",
            "Parent directory:\t\t\t\t>/content/<\n",
            "Genome directory:\t\t\t\t>/content/mouse_chr/<\n",
            "Coverage threshold\t\t\t\t0 (all positions will be reported, default)\n",
            "CX context:\t\t\t\t\tno (CpG context only, default)\n",
            "Genome coordinates used:\t\t\t1-based (default)\n",
            "GZIP compression:\t\t\t\tyes\n",
            "Split by chromosome:\t\t\t\tno\n",
            "\n",
            "\n",
            "Now reading in and storing sequence information of the genome specified in: /content/mouse_chr/\n",
            "\n",
            "chr chr11 (122082543 bp)\n",
            "\n",
            "Stored sequence information of 1 chromosomes/scaffolds in total\n",
            "\n",
            "==============================================================================\n",
            "Methylation information will now be written into a genome-wide cytosine report\n",
            "==============================================================================\n",
            "\n",
            "Adding context-specific methylation summaries\n",
            "\n",
            ">>> Writing genome-wide cytosine report to: s_ICM.deduplicated.CpG_report.txt.gz <<<\n",
            "\n",
            ">>> Writing all cytosine context summary file to: s_ICM.deduplicated.cytosine_context_summary.txt <<<\n",
            "\n",
            "Storing all covered cytosine positions for chromosome: chr11\n",
            "Writing cytosine report for last chromosome chr11 (stored 2053827 different covered positions)\n",
            "Finished writing out cytosine report for covered chromosomes (processed 1 chromosomes/scaffolds in total)\n",
            "\n",
            "Now processing chromosomes that were not covered by any methylation calls in the coverage file...\n",
            "All chromosomes in the genome were covered by at least some reads. coverage2cytosine processing complete.\n",
            "\n",
            "\n",
            "\n",
            "Finished generating genome-wide cytosine report\n",
            "\n"
          ]
        }
      ]
    },
    {
      "cell_type": "markdown",
      "source": [
        "### M-bias plot"
      ],
      "metadata": {
        "id": "uWYRMgdkn7Pq"
      }
    },
    {
      "cell_type": "markdown",
      "source": [
        "Переназываем файлы\n",
        "\n",
        ".deduplication_report.txt\n",
        "\n",
        ".deduplicated_splitting_report.txt\n",
        "\n",
        ".deduplicated.M-bias.txt\n",
        "\n",
        "вручную, ставя SRRnnnnnnn_1_bismark_bt2_pe в начало."
      ],
      "metadata": {
        "id": "mkePkWNLarB2"
      }
    },
    {
      "cell_type": "code",
      "source": [
        "!bismark2report"
      ],
      "metadata": {
        "id": "p15l6HDVutMN",
        "colab": {
          "base_uri": "https://localhost:8080/"
        },
        "outputId": "e3d2aac1-2a1a-4518-9be0-cffe002259ab"
      },
      "execution_count": 30,
      "outputs": [
        {
          "output_type": "stream",
          "name": "stdout",
          "text": [
            "Found 3 alignment reports in current directory. Now trying to figure out whether there are corresponding optional reports\n",
            "\n",
            "Writing Bismark HTML report to >> SRR3824222_1_bismark_bt2_PE_report.html <<\n",
            "\n",
            "==============================================================================================================\n",
            "Using the following alignment report:\t\t> SRR3824222_1_bismark_bt2_PE_report.txt <\n",
            "Processing alignment report SRR3824222_1_bismark_bt2_PE_report.txt ...\n",
            "Complete\n",
            "\n",
            "Using the following deduplication report:\t> SRR3824222_1_bismark_bt2_pe.deduplication_report.txt <\n",
            "Processing deduplication report SRR3824222_1_bismark_bt2_pe.deduplication_report.txt ...\n",
            "Complete\n",
            "\n",
            "Using the following splitting report:\t\t> SRR3824222_1_bismark_bt2_pe.deduplicated_splitting_report.txt <\n",
            "Processing splitting report SRR3824222_1_bismark_bt2_pe.deduplicated_splitting_report.txt ...\n",
            "Complete\n",
            "\n",
            "Using the following M-bias report:\t\t> SRR3824222_1_bismark_bt2_pe.deduplicated.M-bias.txt <\n",
            "Processing M-bias report SRR3824222_1_bismark_bt2_pe.deduplicated.M-bias.txt ...\n",
            "Complete\n",
            "\n",
            "No nucleotide coverage report file specified, skipping this step\n",
            "==============================================================================================================\n",
            "\n",
            "\n",
            "\n",
            "Writing Bismark HTML report to >> SRR5836473_1_bismark_bt2_PE_report.html <<\n",
            "\n",
            "==============================================================================================================\n",
            "Using the following alignment report:\t\t> SRR5836473_1_bismark_bt2_PE_report.txt <\n",
            "Processing alignment report SRR5836473_1_bismark_bt2_PE_report.txt ...\n",
            "Complete\n",
            "\n",
            "Using the following deduplication report:\t> SRR5836473_1_bismark_bt2_pe.deduplication_report.txt <\n",
            "Processing deduplication report SRR5836473_1_bismark_bt2_pe.deduplication_report.txt ...\n",
            "Complete\n",
            "\n",
            "Using the following splitting report:\t\t> SRR5836473_1_bismark_bt2_pe.deduplicated_splitting_report.txt <\n",
            "Processing splitting report SRR5836473_1_bismark_bt2_pe.deduplicated_splitting_report.txt ...\n",
            "Complete\n",
            "\n",
            "Using the following M-bias report:\t\t> SRR5836473_1_bismark_bt2_pe.deduplicated.M-bias.txt <\n",
            "Processing M-bias report SRR5836473_1_bismark_bt2_pe.deduplicated.M-bias.txt ...\n",
            "Complete\n",
            "\n",
            "No nucleotide coverage report file specified, skipping this step\n",
            "==============================================================================================================\n",
            "\n",
            "\n",
            "\n",
            "Writing Bismark HTML report to >> SRR5836475_1_bismark_bt2_PE_report.html <<\n",
            "\n",
            "==============================================================================================================\n",
            "Using the following alignment report:\t\t> SRR5836475_1_bismark_bt2_PE_report.txt <\n",
            "Processing alignment report SRR5836475_1_bismark_bt2_PE_report.txt ...\n",
            "Complete\n",
            "\n",
            "Using the following deduplication report:\t> SRR5836475_1_bismark_bt2_pe.deduplication_report.txt <\n",
            "Processing deduplication report SRR5836475_1_bismark_bt2_pe.deduplication_report.txt ...\n",
            "Complete\n",
            "\n",
            "Using the following splitting report:\t\t> SRR5836475_1_bismark_bt2_pe.deduplicated_splitting_report.txt <\n",
            "Processing splitting report SRR5836475_1_bismark_bt2_pe.deduplicated_splitting_report.txt ...\n",
            "Complete\n",
            "\n",
            "Using the following M-bias report:\t\t> SRR5836475_1_bismark_bt2_pe.deduplicated.M-bias.txt <\n",
            "Processing M-bias report SRR5836475_1_bismark_bt2_pe.deduplicated.M-bias.txt ...\n",
            "Complete\n",
            "\n",
            "No nucleotide coverage report file specified, skipping this step\n",
            "==============================================================================================================\n",
            "\n",
            "\n"
          ]
        }
      ]
    },
    {
      "cell_type": "markdown",
      "source": [
        "### Гистограммы"
      ],
      "metadata": {
        "id": "C54_p-p_wa7f"
      }
    },
    {
      "cell_type": "code",
      "source": [
        "!pip install pyGenomeTracks\n",
        "!pip install -U ipykernel\n",
        "!apt-get install bedtools"
      ],
      "metadata": {
        "id": "TpHncRNBwlRp",
        "colab": {
          "base_uri": "https://localhost:8080/"
        },
        "outputId": "edc7a79e-0088-4c33-948a-d4b5aa8f9ffe"
      },
      "execution_count": 51,
      "outputs": [
        {
          "output_type": "stream",
          "name": "stdout",
          "text": [
            "Looking in indexes: https://pypi.org/simple, https://us-python.pkg.dev/colab-wheels/public/simple/\n",
            "Requirement already satisfied: pyGenomeTracks in /usr/local/lib/python3.8/site-packages (3.8)\n",
            "Requirement already satisfied: pytest in /usr/local/lib/python3.8/site-packages (from pyGenomeTracks) (7.2.1)\n",
            "Requirement already satisfied: hicmatrix>=15 in /usr/local/lib/python3.8/site-packages (from pyGenomeTracks) (15)\n",
            "Requirement already satisfied: pysam>=0.14 in /usr/local/lib/python3.8/site-packages (from pyGenomeTracks) (0.20.0)\n",
            "Requirement already satisfied: gffutils>=0.9 in /usr/local/lib/python3.8/site-packages (from pyGenomeTracks) (0.11.1)\n",
            "Requirement already satisfied: numpy>=1.20 in /usr/local/lib/python3.8/site-packages (from pyGenomeTracks) (1.24.2)\n",
            "Requirement already satisfied: pybedtools>=0.8.1 in /usr/local/lib/python3.8/site-packages (from pyGenomeTracks) (0.9.0)\n",
            "Requirement already satisfied: tqdm>=4.20 in /usr/local/lib/python3.8/site-packages (from pyGenomeTracks) (4.64.1)\n",
            "Requirement already satisfied: bx-python>=0.8.13 in /usr/local/lib/python3.8/site-packages (from pyGenomeTracks) (0.9.0)\n",
            "Requirement already satisfied: future>=0.17.0 in /usr/local/lib/python3.8/site-packages (from pyGenomeTracks) (0.18.3)\n",
            "Requirement already satisfied: pyfaidx>=0.1.3 in /usr/local/lib/python3.8/site-packages (from pyGenomeTracks) (0.7.1)\n",
            "Requirement already satisfied: pyBigWig>=0.3.16 in /usr/local/lib/python3.8/site-packages (from pyGenomeTracks) (0.3.18)\n",
            "Requirement already satisfied: intervaltree>=2.1.0 in /usr/local/lib/python3.8/site-packages (from pyGenomeTracks) (3.1.0)\n",
            "Requirement already satisfied: matplotlib<=3.6.2,>=3.1.1 in /usr/local/lib/python3.8/site-packages (from pyGenomeTracks) (3.6.2)\n",
            "Requirement already satisfied: argh>=0.26.2 in /usr/local/lib/python3.8/site-packages (from gffutils>=0.9->pyGenomeTracks) (0.26.2)\n",
            "Requirement already satisfied: simplejson in /usr/local/lib/python3.8/site-packages (from gffutils>=0.9->pyGenomeTracks) (3.18.3)\n",
            "Requirement already satisfied: six>=1.12.0 in /usr/local/lib/python3.8/site-packages (from gffutils>=0.9->pyGenomeTracks) (1.16.0)\n",
            "Requirement already satisfied: argcomplete>=1.9.4 in /usr/local/lib/python3.8/site-packages (from gffutils>=0.9->pyGenomeTracks) (2.0.0)\n",
            "Requirement already satisfied: tables>=3.5.* in /usr/local/lib/python3.8/site-packages (from hicmatrix>=15->pyGenomeTracks) (3.8.0)\n",
            "Requirement already satisfied: pandas>=0.25.* in /usr/local/lib/python3.8/site-packages (from hicmatrix>=15->pyGenomeTracks) (1.5.3)\n",
            "Requirement already satisfied: scipy>=1.2.* in /usr/local/lib/python3.8/site-packages (from hicmatrix>=15->pyGenomeTracks) (1.10.0)\n",
            "Requirement already satisfied: cooler>=0.8.9 in /usr/local/lib/python3.8/site-packages (from hicmatrix>=15->pyGenomeTracks) (0.9.1)\n",
            "Requirement already satisfied: sortedcontainers<3.0,>=2.0 in /usr/local/lib/python3.8/site-packages (from intervaltree>=2.1.0->pyGenomeTracks) (2.4.0)\n",
            "Requirement already satisfied: packaging>=20.0 in /usr/local/lib/python3.8/site-packages (from matplotlib<=3.6.2,>=3.1.1->pyGenomeTracks) (23.0)\n",
            "Requirement already satisfied: pillow>=6.2.0 in /usr/local/lib/python3.8/site-packages (from matplotlib<=3.6.2,>=3.1.1->pyGenomeTracks) (9.4.0)\n",
            "Requirement already satisfied: python-dateutil>=2.7 in /usr/local/lib/python3.8/site-packages (from matplotlib<=3.6.2,>=3.1.1->pyGenomeTracks) (2.8.2)\n",
            "Requirement already satisfied: kiwisolver>=1.0.1 in /usr/local/lib/python3.8/site-packages (from matplotlib<=3.6.2,>=3.1.1->pyGenomeTracks) (1.4.4)\n",
            "Requirement already satisfied: contourpy>=1.0.1 in /usr/local/lib/python3.8/site-packages (from matplotlib<=3.6.2,>=3.1.1->pyGenomeTracks) (1.0.7)\n",
            "Requirement already satisfied: fonttools>=4.22.0 in /usr/local/lib/python3.8/site-packages (from matplotlib<=3.6.2,>=3.1.1->pyGenomeTracks) (4.38.0)\n",
            "Requirement already satisfied: pyparsing>=2.2.1 in /usr/local/lib/python3.8/site-packages (from matplotlib<=3.6.2,>=3.1.1->pyGenomeTracks) (3.0.9)\n",
            "Requirement already satisfied: cycler>=0.10 in /usr/local/lib/python3.8/site-packages (from matplotlib<=3.6.2,>=3.1.1->pyGenomeTracks) (0.11.0)\n",
            "Requirement already satisfied: setuptools>=0.7 in /usr/local/lib/python3.8/site-packages (from pyfaidx>=0.1.3->pyGenomeTracks) (65.5.1)\n",
            "Requirement already satisfied: pluggy<2.0,>=0.12 in /usr/local/lib/python3.8/site-packages (from pytest->pyGenomeTracks) (1.0.0)\n",
            "Requirement already satisfied: exceptiongroup>=1.0.0rc8 in /usr/local/lib/python3.8/site-packages (from pytest->pyGenomeTracks) (1.1.0)\n",
            "Requirement already satisfied: attrs>=19.2.0 in /usr/local/lib/python3.8/site-packages (from pytest->pyGenomeTracks) (22.2.0)\n",
            "Requirement already satisfied: tomli>=1.0.0 in /usr/local/lib/python3.8/site-packages (from pytest->pyGenomeTracks) (2.0.1)\n",
            "Requirement already satisfied: iniconfig in /usr/local/lib/python3.8/site-packages (from pytest->pyGenomeTracks) (2.0.0)\n",
            "Requirement already satisfied: h5py>=2.5 in /usr/local/lib/python3.8/site-packages (from cooler>=0.8.9->hicmatrix>=15->pyGenomeTracks) (3.8.0)\n",
            "Requirement already satisfied: multiprocess in /usr/local/lib/python3.8/site-packages (from cooler>=0.8.9->hicmatrix>=15->pyGenomeTracks) (0.70.14)\n",
            "Requirement already satisfied: cytoolz in /usr/local/lib/python3.8/site-packages (from cooler>=0.8.9->hicmatrix>=15->pyGenomeTracks) (0.12.1)\n",
            "Requirement already satisfied: click>=7 in /usr/local/lib/python3.8/site-packages (from cooler>=0.8.9->hicmatrix>=15->pyGenomeTracks) (8.1.3)\n",
            "Requirement already satisfied: asciitree in /usr/local/lib/python3.8/site-packages (from cooler>=0.8.9->hicmatrix>=15->pyGenomeTracks) (0.3.3)\n",
            "Requirement already satisfied: pyyaml in /usr/local/lib/python3.8/site-packages (from cooler>=0.8.9->hicmatrix>=15->pyGenomeTracks) (6.0)\n",
            "Requirement already satisfied: pytz>=2020.1 in /usr/local/lib/python3.8/site-packages (from pandas>=0.25.*->hicmatrix>=15->pyGenomeTracks) (2022.7.1)\n",
            "Requirement already satisfied: blosc2~=2.0.0 in /usr/local/lib/python3.8/site-packages (from tables>=3.5.*->hicmatrix>=15->pyGenomeTracks) (2.0.0)\n",
            "Requirement already satisfied: numexpr>=2.6.2 in /usr/local/lib/python3.8/site-packages (from tables>=3.5.*->hicmatrix>=15->pyGenomeTracks) (2.8.4)\n",
            "Requirement already satisfied: py-cpuinfo in /usr/local/lib/python3.8/site-packages (from tables>=3.5.*->hicmatrix>=15->pyGenomeTracks) (9.0.0)\n",
            "Requirement already satisfied: cython>=0.29.21 in /usr/local/lib/python3.8/site-packages (from tables>=3.5.*->hicmatrix>=15->pyGenomeTracks) (0.29.33)\n",
            "Requirement already satisfied: msgpack in /usr/local/lib/python3.8/site-packages (from blosc2~=2.0.0->tables>=3.5.*->hicmatrix>=15->pyGenomeTracks) (1.0.4)\n",
            "Requirement already satisfied: toolz>=0.8.0 in /usr/local/lib/python3.8/site-packages (from cytoolz->cooler>=0.8.9->hicmatrix>=15->pyGenomeTracks) (0.12.0)\n",
            "Requirement already satisfied: dill>=0.3.6 in /usr/local/lib/python3.8/site-packages (from multiprocess->cooler>=0.8.9->hicmatrix>=15->pyGenomeTracks) (0.3.6)\n",
            "\u001b[33mWARNING: Running pip as the 'root' user can result in broken permissions and conflicting behaviour with the system package manager. It is recommended to use a virtual environment instead: https://pip.pypa.io/warnings/venv\u001b[0m\u001b[33m\n",
            "\u001b[0mLooking in indexes: https://pypi.org/simple, https://us-python.pkg.dev/colab-wheels/public/simple/\n",
            "Requirement already satisfied: ipykernel in /usr/local/lib/python3.8/site-packages (6.21.1)\n",
            "Requirement already satisfied: jupyter-client>=6.1.12 in /usr/local/lib/python3.8/site-packages (from ipykernel) (8.0.2)\n",
            "Requirement already satisfied: comm>=0.1.1 in /usr/local/lib/python3.8/site-packages (from ipykernel) (0.1.2)\n",
            "Requirement already satisfied: nest-asyncio in /usr/local/lib/python3.8/site-packages (from ipykernel) (1.5.6)\n",
            "Requirement already satisfied: tornado>=6.1 in /usr/local/lib/python3.8/site-packages (from ipykernel) (6.2)\n",
            "Requirement already satisfied: matplotlib-inline>=0.1 in /usr/local/lib/python3.8/site-packages (from ipykernel) (0.1.6)\n",
            "Requirement already satisfied: ipython>=7.23.1 in /usr/local/lib/python3.8/site-packages (from ipykernel) (8.9.0)\n",
            "Requirement already satisfied: debugpy>=1.6.5 in /usr/local/lib/python3.8/site-packages (from ipykernel) (1.6.6)\n",
            "Requirement already satisfied: traitlets>=5.4.0 in /usr/local/lib/python3.8/site-packages (from ipykernel) (5.9.0)\n",
            "Requirement already satisfied: jupyter-core!=5.0.*,>=4.12 in /usr/local/lib/python3.8/site-packages (from ipykernel) (5.2.0)\n",
            "Requirement already satisfied: packaging in /usr/local/lib/python3.8/site-packages (from ipykernel) (23.0)\n",
            "Requirement already satisfied: psutil in /usr/local/lib/python3.8/site-packages (from ipykernel) (5.9.4)\n",
            "Requirement already satisfied: pyzmq>=17 in /usr/local/lib/python3.8/site-packages (from ipykernel) (25.0.0)\n",
            "Requirement already satisfied: pygments>=2.4.0 in /usr/local/lib/python3.8/site-packages (from ipython>=7.23.1->ipykernel) (2.14.0)\n",
            "Requirement already satisfied: backcall in /usr/local/lib/python3.8/site-packages (from ipython>=7.23.1->ipykernel) (0.2.0)\n",
            "Requirement already satisfied: decorator in /usr/local/lib/python3.8/site-packages (from ipython>=7.23.1->ipykernel) (5.1.1)\n",
            "Requirement already satisfied: prompt-toolkit<3.1.0,>=3.0.30 in /usr/local/lib/python3.8/site-packages (from ipython>=7.23.1->ipykernel) (3.0.36)\n",
            "Requirement already satisfied: jedi>=0.16 in /usr/local/lib/python3.8/site-packages (from ipython>=7.23.1->ipykernel) (0.18.2)\n",
            "Requirement already satisfied: pexpect>4.3 in /usr/local/lib/python3.8/site-packages (from ipython>=7.23.1->ipykernel) (4.8.0)\n",
            "Requirement already satisfied: stack-data in /usr/local/lib/python3.8/site-packages (from ipython>=7.23.1->ipykernel) (0.6.2)\n",
            "Requirement already satisfied: pickleshare in /usr/local/lib/python3.8/site-packages (from ipython>=7.23.1->ipykernel) (0.7.5)\n",
            "Requirement already satisfied: importlib-metadata>=4.8.3 in /usr/local/lib/python3.8/site-packages (from jupyter-client>=6.1.12->ipykernel) (6.0.0)\n",
            "Requirement already satisfied: python-dateutil>=2.8.2 in /usr/local/lib/python3.8/site-packages (from jupyter-client>=6.1.12->ipykernel) (2.8.2)\n",
            "Requirement already satisfied: platformdirs>=2.5 in /usr/local/lib/python3.8/site-packages (from jupyter-core!=5.0.*,>=4.12->ipykernel) (3.0.0)\n",
            "Requirement already satisfied: zipp>=0.5 in /usr/local/lib/python3.8/site-packages (from importlib-metadata>=4.8.3->jupyter-client>=6.1.12->ipykernel) (3.12.1)\n",
            "Requirement already satisfied: parso<0.9.0,>=0.8.0 in /usr/local/lib/python3.8/site-packages (from jedi>=0.16->ipython>=7.23.1->ipykernel) (0.8.3)\n",
            "Requirement already satisfied: ptyprocess>=0.5 in /usr/local/lib/python3.8/site-packages (from pexpect>4.3->ipython>=7.23.1->ipykernel) (0.7.0)\n",
            "Requirement already satisfied: wcwidth in /usr/local/lib/python3.8/site-packages (from prompt-toolkit<3.1.0,>=3.0.30->ipython>=7.23.1->ipykernel) (0.2.6)\n",
            "Requirement already satisfied: six>=1.5 in /usr/local/lib/python3.8/site-packages (from python-dateutil>=2.8.2->jupyter-client>=6.1.12->ipykernel) (1.16.0)\n",
            "Requirement already satisfied: asttokens>=2.1.0 in /usr/local/lib/python3.8/site-packages (from stack-data->ipython>=7.23.1->ipykernel) (2.2.1)\n",
            "Requirement already satisfied: executing>=1.2.0 in /usr/local/lib/python3.8/site-packages (from stack-data->ipython>=7.23.1->ipykernel) (1.2.0)\n",
            "Requirement already satisfied: pure-eval in /usr/local/lib/python3.8/site-packages (from stack-data->ipython>=7.23.1->ipykernel) (0.2.2)\n",
            "\u001b[33mWARNING: Running pip as the 'root' user can result in broken permissions and conflicting behaviour with the system package manager. It is recommended to use a virtual environment instead: https://pip.pypa.io/warnings/venv\u001b[0m\u001b[33m\n",
            "Reading package lists... Done\n",
            "Building dependency tree       \n",
            "Reading state information... Done\n",
            "bedtools is already the newest version (2.27.1+dfsg-4ubuntu1).\n",
            "The following package was automatically installed and is no longer required:\n",
            "  libnvidia-common-510\n",
            "Use 'apt autoremove' to remove it.\n",
            "0 upgraded, 0 newly installed, 0 to remove and 27 not upgraded.\n"
          ]
        }
      ]
    },
    {
      "cell_type": "code",
      "source": [
        "!conda install conda=22.9.0\n",
        "!conda install -c bioconda ucsc-fetchchromsizes"
      ],
      "metadata": {
        "colab": {
          "base_uri": "https://localhost:8080/"
        },
        "id": "F3HQc5cgAmsK",
        "outputId": "522eb18b-4ae5-475a-ed09-b1c0c3e12c92"
      },
      "execution_count": 35,
      "outputs": [
        {
          "output_type": "stream",
          "name": "stdout",
          "text": [
            "Collecting package metadata (current_repodata.json): - \b\b\\ \b\b| \b\b/ \b\b- \b\b\\ \b\b| \b\b/ \b\b- \b\b\\ \b\b| \b\b/ \b\b- \b\b\\ \b\b| \b\b/ \b\b- \b\b\\ \b\b| \b\bdone\n",
            "Solving environment: - \b\bfailed with initial frozen solve. Retrying with flexible solve.\n",
            "Collecting package metadata (repodata.json): | \b\b/ \b\b- \b\b\\ \b\b| \b\b/ \b\b- \b\b\\ \b\b| \b\b/ \b\b- \b\b\\ \b\b| \b\b/ \b\b- \b\b\\ \b\b| \b\b/ \b\b- \b\b\\ \b\b| \b\b/ \b\b- \b\b\\ \b\b| \b\b/ \b\b- \b\b\\ \b\b| \b\b/ \b\b- \b\b\\ \b\b| \b\b/ \b\b- \b\b\\ \b\b| \b\b/ \b\b- \b\b\\ \b\b| \b\b/ \b\b- \b\b\\ \b\b| \b\b/ \b\b- \b\b\\ \b\b| \b\b/ \b\b- \b\b\\ \b\b| \b\b/ \b\b- \b\b\\ \b\b| \b\b/ \b\b- \b\b\\ \b\b| \b\b/ \b\b- \b\b\\ \b\b| \b\b/ \b\b- \b\b\\ \b\b| \b\b/ \b\b- \b\b\\ \b\b| \b\b/ \b\b- \b\b\\ \b\b| \b\b/ \b\b- \b\b\\ \b\b| \b\b/ \b\b- \b\b\\ \b\b| \b\b/ \b\b- \b\b\\ \b\b| \b\b/ \b\b- \b\b\\ \b\b| \b\b/ \b\b- \b\b\\ \b\b| \b\b/ \b\b- \b\b\\ \b\b| \b\b/ \b\b- \b\b\\ \b\b| \b\b/ \b\b- \b\b\\ \b\b| \b\b/ \b\b- \b\b\\ \b\b| \b\b/ \b\b- \b\b\\ \b\b| \b\b/ \b\b- \b\b\\ \b\b| \b\b/ \b\b- \b\b\\ \b\b| \b\b/ \b\b- \b\b\\ \b\b| \b\b/ \b\b- \b\b\\ \b\b| \b\b/ \b\b- \b\b\\ \b\b| \b\b/ \b\b- \b\b\\ \b\b| \b\b/ \b\b- \b\b\\ \b\b| \b\b/ \b\b- \b\b\\ \b\b| \b\b/ \b\b- \b\b\\ \b\b| \b\b/ \b\b- \b\b\\ \b\b| \b\b/ \b\b- \b\b\\ \b\b| \b\b/ \b\b- \b\b\\ \b\b| \b\b/ \b\b- \b\b\\ \b\b| \b\b/ \b\b- \b\b\\ \b\b| \b\b/ \b\b- \b\b\\ \b\b| \b\b/ \b\b- \b\b\\ \b\b| \b\b/ \b\b- \b\b\\ \b\b| \b\b/ \b\b- \b\b\\ \b\b| \b\b/ \b\b- \b\b\\ \b\b| \b\b/ \b\b- \b\b\\ \b\b| \b\b/ \b\b- \b\b\\ \b\b| \b\b/ \b\b- \b\b\\ \b\b| \b\b/ \b\b- \b\b\\ \b\b| \b\b/ \b\b- \b\b\\ \b\b| \b\b/ \b\b- \b\b\\ \b\b| \b\b/ \b\b- \b\b\\ \b\b| \b\b/ \b\b- \b\b\\ \b\b| \b\b/ \b\b- \b\b\\ \b\b| \b\b/ \b\b- \b\b\\ \b\b| \b\b/ \b\b- \b\b\\ \b\b| \b\b/ \b\b- \b\b\\ \b\b| \b\b/ \b\b- \b\b\\ \b\b| \b\b/ \b\b- \b\b\\ \b\b| \b\b/ \b\b- \b\b\\ \b\b| \b\b/ \b\b- \b\b\\ \b\b| \b\b/ \b\b- \b\b\\ \b\b| \b\b/ \b\b- \b\b\\ \b\b| \b\b/ \b\b- \b\b\\ \b\b| \b\b/ \b\b- \b\b\\ \b\b| \b\b/ \b\b- \b\b\\ \b\b| \b\b/ \b\b- \b\b\\ \b\b| \b\b/ \b\b- \b\b\\ \b\b| \b\b/ \b\b- \b\b\\ \b\b| \b\b/ \b\b- \b\b\\ \b\b| \b\b/ \b\b- \b\b\\ \b\b| \b\b/ \b\b- \b\b\\ \b\b| \b\b/ \b\b- \b\b\\ \b\b| \b\b/ \b\b- \b\b\\ \b\b| \b\b/ \b\b- \b\b\\ \b\b| \b\b/ \b\b- \b\b\\ \b\b| \b\b/ \b\b- \b\b\\ \b\b| \b\b/ \b\b- \b\b\\ \b\b| \b\b/ \b\b- \b\b\\ \b\b| \b\b/ \b\b- \b\b\\ \b\b| \b\b/ \b\b- \b\b\\ \b\b| \b\b/ \b\b- \b\b\\ \b\b| \b\b/ \b\b- \b\b\\ \b\b| \b\b/ \b\b- \b\b\\ \b\b| \b\b/ \b\b- \b\b\\ \b\b| \b\b/ \b\b- \b\b\\ \b\b| \b\b/ \b\b- \b\b\\ \b\b| \b\b/ \b\b- \b\b\\ \b\b| \b\b/ \b\b- \b\b\\ \b\b| \b\b/ \b\b- \b\b\\ \b\b| \b\b/ \b\b- \b\b\\ \b\b| \b\b/ \b\b- \b\b\\ \b\b| \b\b/ \b\b- \b\b\\ \b\b| \b\b/ \b\b- \b\b\\ \b\b| \b\b/ \b\b- \b\b\\ \b\b| \b\b/ \b\b- \b\b\\ \b\b| \b\b/ \b\b- \b\b\\ \b\b| \b\b/ \b\b- \b\b\\ \b\b| \b\b/ \b\b- \b\b\\ \b\b| \b\b/ \b\b- \b\b\\ \b\b| \b\b/ \b\b- \b\b\\ \b\b| \b\b/ \b\b- \b\b\\ \b\b| \b\b/ \b\b- \b\b\\ \b\b| \b\b/ \b\b- \b\b\\ \b\b| \b\b/ \b\b- \b\b\\ \b\b| \b\b/ \b\b- \b\b\\ \b\b| \b\b/ \b\b- \b\b\\ \b\b| \b\b/ \b\b- \b\b\\ \b\b| \b\b/ \b\b- \b\b\\ \b\b| \b\b/ \b\b- \b\b\\ \b\b| \b\b/ \b\b- \b\b\\ \b\b| \b\b/ \b\b- \b\b\\ \b\b| \b\b/ \b\b- \b\b\\ \b\b| \b\b/ \b\b- \b\b\\ \b\b| \b\b/ \b\b- \b\b\\ \b\b| \b\b/ \b\b- \b\b\\ \b\b| \b\b/ \b\b- \b\b\\ \b\b| \b\b/ \b\b- \b\b\\ \b\b| \b\b/ \b\b- \b\b\\ \b\b| \b\b/ \b\b- \b\b\\ \b\b| \b\b/ \b\b- \b\b\\ \b\b| \b\b/ \b\b- \b\b\\ \b\b| \b\b/ \b\b- \b\b\\ \b\b| \b\b/ \b\b- \b\b\\ \b\b| \b\b/ \b\b- \b\b\\ \b\b| \b\b/ \b\b- \b\b\\ \b\b| \b\b/ \b\b- \b\b\\ \b\b| \b\b/ \b\b- \b\b\\ \b\b| \b\b/ \b\b- \b\b\\ \b\b| \b\b/ \b\b- \b\b\\ \b\b| \b\b/ \b\b- \b\b\\ \b\b| \b\b/ \b\b- \b\b\\ \b\b| \b\b/ \b\b- \b\b\\ \b\b| \b\b/ \b\b- \b\b\\ \b\b| \b\b/ \b\b- \b\b\\ \b\b| \b\b/ \b\b- \b\b\\ \b\b| \b\b/ \b\b- \b\b\\ \b\b| \b\b/ \b\b- \b\b\\ \b\b| \b\b/ \b\b- \b\b\\ \b\b| \b\b/ \b\b- \b\b\\ \b\b| \b\b/ \b\b- \b\b\\ \b\b| \b\b/ \b\b- \b\b\\ \b\b| \b\b/ \b\b- \b\b\\ \b\b| \b\b/ \b\b- \b\b\\ \b\b| \b\b/ \b\b- \b\b\\ \b\b| \b\b/ \b\b- \b\b\\ \b\b| \b\b/ \b\b- \b\b\\ \b\b| \b\b/ \b\b- \b\b\\ \b\b| \b\b/ \b\b- \b\b\\ \b\b| \b\b/ \b\b- \b\b\\ \b\b| \b\b/ \b\b- \b\b\\ \b\b| \b\b/ \b\b- \b\b\\ \b\b| \b\b/ \b\b- \b\b\\ \b\b| \b\b/ \b\b- \b\b\\ \b\b| \b\b/ \b\b- \b\b\\ \b\b| \b\b/ \b\b- \b\b\\ \b\b| \b\b/ \b\b- \b\b\\ \b\b| \b\b/ \b\b- \b\b\\ \b\b| \b\b/ \b\b- \b\b\\ \b\b| \b\b/ \b\b- \b\b\\ \b\b| \b\b/ \b\b- \b\b\\ \b\b| \b\b/ \b\b- \b\b\\ \b\b| \b\b/ \b\b- \b\b\\ \b\b| \b\b/ \b\b- \b\b\\ \b\b| \b\b/ \b\b- \b\b\\ \b\b| \b\b/ \b\b- \b\b\\ \b\b| \b\b/ \b\b- \b\b\\ \b\b| \b\b/ \b\b- \b\b\\ \b\b| \b\b/ \b\b- \b\b\\ \b\b| \b\b/ \b\b- \b\b\\ \b\b| \b\b/ \b\b- \b\b\\ \b\b| \b\b/ \b\b- \b\b\\ \b\b| \b\b/ \b\b- \b\b\\ \b\b| \b\b/ \b\b- \b\b\\ \b\b| \b\b/ \b\b- \b\b\\ \b\b| \b\b/ \b\b- \b\b\\ \b\b| \b\b/ \b\b- \b\b\\ \b\b| \b\b/ \b\b- \b\b\\ \b\b| \b\b/ \b\b- \b\b\\ \b\b| \b\b/ \b\b- \b\b\\ \b\b| \b\b/ \b\b- \b\b\\ \b\b| \b\b/ \b\b- \b\b\\ \b\b| \b\b/ \b\b- \b\b\\ \b\b| \b\b/ \b\b- \b\b\\ \b\b| \b\b/ \b\b- \b\b\\ \b\b| \b\b/ \b\b- \b\b\\ \b\b| \b\b/ \b\b- \b\b\\ \b\b| \b\b/ \b\b- \b\b\\ \b\b| \b\b/ \b\b- \b\b\\ \b\b| \b\b/ \b\b- \b\b\\ \b\b| \b\b/ \b\b- \b\b\\ \b\b| \b\b/ \b\b- \b\b\\ \b\b| \b\b/ \b\b- \b\b\\ \b\b| \b\b/ \b\b- \b\b\\ \b\b| \b\b/ \b\b- \b\b\\ \b\b| \b\b/ \b\b- \b\b\\ \b\b| \b\b/ \b\b- \b\b\\ \b\b| \b\b/ \b\b- \b\bdone\n",
            "Solving environment: | \b\b/ \b\b- \b\b\\ \b\b| \b\b/ \b\b- \b\b\\ \b\b| \b\b/ \b\b- \b\b\\ \b\b| \b\b/ \b\b- \b\b\\ \b\b| \b\b/ \b\b- \b\b\\ \b\b| \b\b/ \b\b- \b\b\\ \b\b| \b\b/ \b\b- \b\b\\ \b\b| \b\b/ \b\b- \b\b\\ \b\b| \b\b/ \b\b- \b\b\\ \b\b| \b\b/ \b\b- \b\b\\ \b\b| \b\b/ \b\b- \b\b\\ \b\b| \b\b/ \b\b- \b\b\\ \b\b| \b\b/ \b\b- \b\b\\ \b\b| \b\b/ \b\b- \b\b\\ \b\b| \b\b/ \b\b- \b\b\\ \b\b| \b\b/ \b\b- \b\b\\ \b\b| \b\b/ \b\b- \b\b\\ \b\b| \b\b/ \b\b- \b\b\\ \b\b| \b\b/ \b\b- \b\b\\ \b\b| \b\b/ \b\b- \b\b\\ \b\b| \b\b/ \b\b- \b\b\\ \b\b| \b\b/ \b\b- \b\b\\ \b\b| \b\b/ \b\b- \b\b\\ \b\b| \b\b/ \b\b- \b\b\\ \b\b| \b\b/ \b\b- \b\b\\ \b\b| \b\b/ \b\b- \b\b\\ \b\b| \b\b/ \b\b- \b\b\\ \b\b| \b\b/ \b\b- \b\b\\ \b\b| \b\b/ \b\b- \b\b\\ \b\b| \b\b/ \b\b- \b\b\\ \b\b| \b\b/ \b\b- \b\b\\ \b\b| \b\b/ \b\b- \b\b\\ \b\b| \b\b/ \b\b- \b\b\\ \b\b| \b\b/ \b\b- \b\b\\ \b\b| \b\b/ \b\b- \b\b\\ \b\b| \b\b/ \b\b- \b\b\\ \b\b| \b\b/ \b\b- \b\b\\ \b\b| \b\b/ \b\b- \b\b\\ \b\b| \b\b/ \b\b- \b\b\\ \b\b| \b\b/ \b\b- \b\b\\ \b\b| \b\b/ \b\b- \b\b\\ \b\b| \b\b/ \b\b- \b\b\\ \b\b| \b\b/ \b\b- \b\b\\ \b\b| \b\b/ \b\b- \b\b\\ \b\b| \b\b/ \b\b- \b\b\\ \b\b| \b\b/ \b\b- \b\b\\ \b\b| \b\b/ \b\b- \b\b\\ \b\b| \b\b/ \b\b- \b\b\\ \b\b| \b\b/ \b\b- \b\b\\ \b\b| \b\b/ \b\b- \b\b\\ \b\b| \b\b/ \b\b- \b\b\\ \b\b| \b\b/ \b\b- \b\b\\ \b\b| \b\b/ \b\b- \b\b\\ \b\b| \b\b/ \b\b- \b\b\\ \b\b| \b\b/ \b\b- \b\b\\ \b\b| \b\b/ \b\b- \b\b\\ \b\b| \b\b/ \b\b- \b\b\\ \b\b| \b\b/ \b\b- \b\b\\ \b\b| \b\b/ \b\b- \b\b\\ \b\b| \b\b/ \b\b- \b\b\\ \b\b| \b\b/ \b\b- \b\b\\ \b\b| \b\b/ \b\b- \b\b\\ \b\b| \b\b/ \b\b- \b\b\\ \b\b| \b\b/ \b\b- \b\b\\ \b\b| \b\b/ \b\b- \b\b\\ \b\b| \b\b/ \b\b- \b\b\\ \b\b| \b\b/ \b\b- \b\b\\ \b\b| \b\b/ \b\bdone\n",
            "\n",
            "## Package Plan ##\n",
            "\n",
            "  environment location: /usr/local\n",
            "\n",
            "  added / updated specs:\n",
            "    - conda=22.9.0\n",
            "\n",
            "\n",
            "The following packages will be DOWNGRADED:\n",
            "\n",
            "  conda                              22.11.1-py38h578d9bd_1 --> 22.9.0-py38h578d9bd_2 \n",
            "\n",
            "\n",
            "\n",
            "Downloading and Extracting Packages\n",
            "\n",
            "Preparing transaction: \\ \b\bdone\n",
            "Verifying transaction: / \b\bdone\n",
            "Executing transaction: \\ \b\bdone\n",
            "Collecting package metadata (current_repodata.json): - \b\b\\ \b\b| \b\b/ \b\b- \b\b\\ \b\b| \b\b/ \b\b- \b\b\\ \b\b| \b\b/ \b\b- \b\b\\ \b\b| \b\b/ \b\b- \b\b\\ \b\b| \b\b/ \b\b- \b\b\\ \b\b| \b\b/ \b\bdone\n",
            "Solving environment: \\ \b\b| \b\b/ \b\b- \b\b\\ \b\b| \b\b/ \b\b- \b\b\\ \b\b| \b\b/ \b\b- \b\b\\ \b\b| \b\b/ \b\b- \b\b\\ \b\b| \b\b/ \b\b- \b\b\\ \b\b| \b\b/ \b\b- \b\b\\ \b\b| \b\b/ \b\b- \b\b\\ \b\b| \b\b/ \b\b- \b\b\\ \b\b| \b\b/ \b\b- \b\b\\ \b\b| \b\b/ \b\b- \b\b\\ \b\b| \b\b/ \b\b- \b\b\\ \b\b| \b\b/ \b\b- \b\b\\ \b\b| \b\b/ \b\b- \b\b\\ \b\b| \b\b/ \b\b- \b\b\\ \b\b| \b\b/ \b\b- \b\b\\ \b\b| \b\b/ \b\b- \b\b\\ \b\b| \b\b/ \b\b- \b\b\\ \b\b| \b\b/ \b\b- \b\b\\ \b\b| \b\b/ \b\b- \b\b\\ \b\b| \b\b/ \b\b- \b\b\\ \b\b| \b\b/ \b\b- \b\b\\ \b\b| \b\b/ \b\b- \b\b\\ \b\b| \b\b/ \b\b- \b\b\\ \b\b| \b\b/ \b\b- \b\b\\ \b\b| \b\b/ \b\b- \b\b\\ \b\b| \b\b/ \b\b- \b\b\\ \b\b| \b\b/ \b\b- \b\b\\ \b\b| \b\b/ \b\b- \b\b\\ \b\b| \b\b/ \b\b- \b\b\\ \b\b| \b\b/ \b\b- \b\b\\ \b\b| \b\b/ \b\b- \b\b\\ \b\b| \b\b/ \b\b- \b\b\\ \b\b| \b\b/ \b\b- \b\b\\ \b\b| \b\b/ \b\b- \b\b\\ \b\b| \b\b/ \b\b- \b\b\\ \b\b| \b\b/ \b\b- \b\b\\ \b\b| \b\b/ \b\b- \b\b\\ \b\b| \b\b/ \b\b- \b\b\\ \b\b| \b\b/ \b\b- \b\b\\ \b\b| \b\b/ \b\b- \b\b\\ \b\b| \b\b/ \b\b- \b\b\\ \b\b| \b\b/ \b\b- \b\b\\ \b\b| \b\b/ \b\b- \b\b\\ \b\b| \b\b/ \b\b- \b\b\\ \b\b| \b\b/ \b\b- \b\b\\ \b\b| \b\b/ \b\b- \b\b\\ \b\b| \b\b/ \b\b- \b\b\\ \b\b| \b\b/ \b\bfailed with initial frozen solve. Retrying with flexible solve.\n",
            "Solving environment: \\ \b\b| \b\b/ \b\b- \b\b\\ \b\b| \b\b/ \b\b- \b\b\\ \b\b| \b\b/ \b\b- \b\b\\ \b\b| \b\b/ \b\b- \b\b\\ \b\b| \b\b/ \b\b- \b\b\\ \b\b| \b\b/ \b\b- \b\b\\ \b\b| \b\b/ \b\b- \b\b\\ \b\b| \b\b/ \b\b- \b\b\\ \b\b| \b\b/ \b\b- \b\b\\ \b\b| \b\b/ \b\b- \b\b\\ \b\b| \b\b/ \b\b- \b\b\\ \b\b| \b\b/ \b\b- \b\b\\ \b\b| \b\b/ \b\b- \b\b\\ \b\b| \b\b/ \b\b- \b\b\\ \b\b| \b\b/ \b\b- \b\b\\ \b\b| \b\b/ \b\b- \b\b\\ \b\b| \b\b/ \b\b- \b\b\\ \b\b| \b\b/ \b\b- \b\b\\ \b\b| \b\b/ \b\b- \b\b\\ \b\b| \b\b/ \b\b- \b\b\\ \b\b| \b\b/ \b\b- \b\b\\ \b\b| \b\b/ \b\b- \b\b\\ \b\b| \b\b/ \b\b- \b\b\\ \b\b| \b\b/ \b\b- \b\b\\ \b\b| \b\b/ \b\b- \b\b\\ \b\b| \b\b/ \b\b- \b\b\\ \b\b| \b\b/ \b\b- \b\b\\ \b\b| \b\b/ \b\b- \b\b\\ \b\b| \b\b/ \b\b- \b\b\\ \b\b| \b\b/ \b\b- \b\b\\ \b\b| \b\b/ \b\b- \b\b\\ \b\b| \b\b/ \b\b- \b\b\\ \b\b| \b\b/ \b\b- \b\b\\ \b\b| \b\b/ \b\b- \b\b\\ \b\b| \b\b/ \b\b- \b\b\\ \b\b| \b\b/ \b\b- \b\b\\ \b\b| \b\b/ \b\b- \b\b\\ \b\b| \b\b/ \b\b- \b\b\\ \b\b| \b\b/ \b\b- \b\b\\ \b\b| \b\b/ \b\b- \b\b\\ \b\b| \b\b/ \b\b- \b\b\\ \b\b| \b\b/ \b\b- \b\b\\ \b\b| \b\b/ \b\b- \b\b\\ \b\b| \b\b/ \b\b- \b\b\\ \b\b| \b\b/ \b\b- \b\b\\ \b\b| \b\b/ \b\b- \b\b\\ \b\b| \b\b/ \b\b- \b\b\\ \b\b| \b\b/ \b\b- \b\b\\ \b\b| \b\b/ \b\b- \b\b\\ \b\b| \b\b/ \b\b- \b\b\\ \b\b| \b\b/ \b\b- \b\b\\ \b\b| \b\b/ \b\b- \b\b\\ \b\b| \b\b/ \b\b- \b\b\\ \b\b| \b\b/ \b\b- \b\b\\ \b\b| \b\b/ \b\b- \b\b\\ \b\b| \b\b/ \b\b- \b\b\\ \b\b| \b\b/ \b\b- \b\b\\ \b\b| \b\b/ \b\b- \b\b\\ \b\b| \b\b/ \b\b- \b\b\\ \b\b| \b\b/ \b\b- \b\b\\ \b\b| \b\bfailed with repodata from current_repodata.json, will retry with next repodata source.\n",
            "Collecting package metadata (repodata.json): - \b\b\\ \b\b| \b\b/ \b\b- \b\b\\ \b\b| \b\b/ \b\b- \b\b\\ \b\b| \b\b/ \b\b- \b\b\\ \b\b| \b\b/ \b\b- \b\b\\ \b\b| \b\b/ \b\b- \b\b\\ \b\b| \b\b/ \b\b- \b\b\\ \b\b| \b\b/ \b\b- \b\b\\ \b\b| \b\b/ \b\b- \b\b\\ \b\b| \b\b/ \b\b- \b\b\\ \b\b| \b\b/ \b\b- \b\b\\ \b\b| \b\b/ \b\b- \b\b\\ \b\b| \b\b/ \b\b- \b\b\\ \b\b| \b\b/ \b\b- \b\b\\ \b\b| \b\b/ \b\b- \b\b\\ \b\b| \b\b/ \b\b- \b\b\\ \b\b| \b\b/ \b\b- \b\b\\ \b\b| \b\b/ \b\b- \b\b\\ \b\b| \b\b/ \b\b- \b\b\\ \b\b| \b\b/ \b\b- \b\b\\ \b\b| \b\b/ \b\b- \b\b\\ \b\b| \b\b/ \b\b- \b\b\\ \b\b| \b\b/ \b\b- \b\b\\ \b\b| \b\b/ \b\b- \b\b\\ \b\b| \b\b/ \b\b- \b\b\\ \b\b| \b\b/ \b\b- \b\b\\ \b\b| \b\b/ \b\b- \b\b\\ \b\b| \b\b/ \b\b- \b\b\\ \b\b| \b\b/ \b\b- \b\b\\ \b\b| \b\b/ \b\b- \b\b\\ \b\b| \b\b/ \b\b- \b\b\\ \b\b| \b\b/ \b\b- \b\b\\ \b\b| \b\b/ \b\b- \b\b\\ \b\b| \b\b/ \b\b- \b\b\\ \b\b| \b\b/ \b\b- \b\b\\ \b\b| \b\b/ \b\b- \b\b\\ \b\b| \b\b/ \b\b- \b\b\\ \b\b| \b\b/ \b\b- \b\b\\ \b\b| \b\b/ \b\b- \b\b\\ \b\b| \b\b/ \b\b- \b\b\\ \b\b| \b\b/ \b\b- \b\b\\ \b\b| \b\b/ \b\b- \b\b\\ \b\b| \b\b/ \b\b- \b\b\\ \b\b| \b\b/ \b\b- \b\b\\ \b\b| \b\b/ \b\b- \b\b\\ \b\b| \b\b/ \b\b- \b\b\\ \b\b| \b\b/ \b\b- \b\b\\ \b\b| \b\b/ \b\b- \b\b\\ \b\b| \b\b/ \b\b- \b\b\\ \b\b| \b\b/ \b\b- \b\b\\ \b\b| \b\b/ \b\b- \b\b\\ \b\b| \b\b/ \b\b- \b\b\\ \b\b| \b\b/ \b\b- \b\b\\ \b\b| \b\b/ \b\b- \b\bdone\n",
            "Solving environment: | \b\b/ \b\b- \b\b\\ \b\b| \b\b/ \b\b- \b\b\\ \b\b| \b\b/ \b\b- \b\b\\ \b\b| \b\b/ \b\b- \b\b\\ \b\b| \b\b/ \b\b- \b\b\\ \b\b| \b\b/ \b\b- \b\b\\ \b\b| \b\b/ \b\b- \b\b\\ \b\b| \b\b/ \b\b- \b\b\\ \b\b| \b\b/ \b\b- \b\b\\ \b\b| \b\b/ \b\b- \b\b\\ \b\b| \b\b/ \b\b- \b\b\\ \b\b| \b\b/ \b\b- \b\b\\ \b\b| \b\b/ \b\b- \b\b\\ \b\b| \b\b/ \b\b- \b\bdone\n",
            "\n",
            "## Package Plan ##\n",
            "\n",
            "  environment location: /usr/local\n",
            "\n",
            "  added / updated specs:\n",
            "    - ucsc-fetchchromsizes\n",
            "\n",
            "\n",
            "The following packages will be downloaded:\n",
            "\n",
            "    package                    |            build\n",
            "    ---------------------------|-----------------\n",
            "    libgcc-7.2.0               |       h69d50b8_2         304 KB  conda-forge\n",
            "    libpng-1.6.39              |       h753d276_0         276 KB  conda-forge\n",
            "    mysql-connector-c-6.1.6    |                2         9.6 MB  bioconda\n",
            "    ucsc-fetchchromsizes-357   |       h5eb252a_2           5 KB  bioconda\n",
            "    ------------------------------------------------------------\n",
            "                                           Total:        10.2 MB\n",
            "\n",
            "The following NEW packages will be INSTALLED:\n",
            "\n",
            "  libgcc             conda-forge/linux-64::libgcc-7.2.0-h69d50b8_2 None\n",
            "  libpng             conda-forge/linux-64::libpng-1.6.39-h753d276_0 None\n",
            "  mysql-connector-c  bioconda/linux-64::mysql-connector-c-6.1.6-2 None\n",
            "  ucsc-fetchchromsi~ bioconda/linux-64::ucsc-fetchchromsizes-357-h5eb252a_2 None\n",
            "\n",
            "The following packages will be UPDATED:\n",
            "\n",
            "  conda                               22.9.0-py38h578d9bd_2 --> 22.11.1-py38h578d9bd_1 None\n",
            "\n",
            "\n",
            "\n",
            "Downloading and Extracting Packages\n",
            "mysql-connector-c-6. | 9.6 MB    | : 100% 1.0/1 [00:02<00:00,  2.85s/it]\n",
            "ucsc-fetchchromsizes | 5 KB      | : 100% 1.0/1 [00:00<00:00, 14.48it/s]\n",
            "libgcc-7.2.0         | 304 KB    | : 100% 1.0/1 [00:00<00:00,  6.94it/s]\n",
            "libpng-1.6.39        | 276 KB    | : 100% 1.0/1 [00:00<00:00, 13.63it/s]\n",
            "Preparing transaction: | \b\bdone\n",
            "Verifying transaction: - \b\b\\ \b\b| \b\b/ \b\b- \b\bdone\n",
            "Executing transaction: | \b\b/ \b\bdone\n",
            "Retrieving notices: ...working... done\n"
          ]
        }
      ]
    },
    {
      "cell_type": "code",
      "source": [
        "! fetchChromSizes mm10 > m.chrom.sizes"
      ],
      "metadata": {
        "id": "8l2di2UgxJHT",
        "colab": {
          "base_uri": "https://localhost:8080/"
        },
        "outputId": "78e54ca2-e7f9-444b-8bab-80f551c59875"
      },
      "execution_count": 36,
      "outputs": [
        {
          "output_type": "stream",
          "name": "stdout",
          "text": [
            "INFO: trying WGET /usr/bin/wget for database mm10\n",
            "url: http://hgdownload.cse.ucsc.edu/goldenPath/mm10/bigZips/mm10.chrom.sizes\n"
          ]
        }
      ]
    },
    {
      "cell_type": "code",
      "source": [
        "!conda install -c bioconda ucsc-bedgraphtobigwig"
      ],
      "metadata": {
        "colab": {
          "base_uri": "https://localhost:8080/"
        },
        "id": "fkSAQi3bI3QY",
        "outputId": "1efff524-f8ad-425e-91a5-81edea058906"
      },
      "execution_count": 50,
      "outputs": [
        {
          "output_type": "stream",
          "name": "stdout",
          "text": [
            "Collecting package metadata (current_repodata.json): - \b\b\\ \b\b| \b\b/ \b\b- \b\b\\ \b\b| \b\b/ \b\b- \b\b\\ \b\b| \b\b/ \b\b- \b\b\\ \b\b| \b\b/ \b\b- \b\b\\ \b\b| \b\b/ \b\b- \b\b\\ \b\b| \b\b/ \b\b- \b\b\\ \b\b| \b\b/ \b\b- \b\b\\ \b\b| \b\b/ \b\b- \b\b\\ \b\b| \b\b/ \b\b- \b\b\\ \b\b| \b\b/ \b\b- \b\b\\ \b\b| \b\b/ \b\b- \b\b\\ \b\b| \b\b/ \b\b- \b\b\\ \b\b| \b\b/ \b\b- \b\b\\ \b\b| \b\b/ \b\b- \b\b\\ \b\b| \b\b/ \b\b- \b\b\\ \b\b| \b\b/ \b\b- \b\b\\ \b\b| \b\b/ \b\b- \b\b\\ \b\b| \b\b/ \b\b- \b\b\\ \b\b| \b\b/ \b\b- \b\b\\ \b\b| \b\b/ \b\b- \b\b\\ \b\b| \b\b/ \b\b- \b\b\\ \b\b| \b\b/ \b\b- \b\b\\ \b\b| \b\b/ \b\b- \b\b\\ \b\b| \b\b/ \b\b- \b\b\\ \b\b| \b\b/ \b\b- \b\b\\ \b\b| \b\b/ \b\b- \b\b\\ \b\b| \b\b/ \b\b- \b\b\\ \b\b| \b\b/ \b\b- \b\b\\ \b\b| \b\b/ \b\b- \b\b\\ \b\b| \b\b/ \b\b- \b\b\\ \b\b| \b\b/ \b\b- \b\b\\ \b\b| \b\b/ \b\b- \b\b\\ \b\b| \b\b/ \b\b- \b\b\\ \b\b| \b\b/ \b\b- \b\b\\ \b\b| \b\b/ \b\b- \b\b\\ \b\b| \b\b/ \b\b- \b\b\\ \b\b| \b\b/ \b\b- \b\b\\ \b\b| \b\b/ \b\b- \b\b\\ \b\b| \b\b/ \b\b- \b\b\\ \b\b| \b\b/ \b\b- \b\b\\ \b\b| \b\b/ \b\b- \b\b\\ \b\b| \b\b/ \b\b- \b\b\\ \b\b| \b\b/ \b\b- \b\b\\ \b\b| \b\b/ \b\b- \b\b\\ \b\b| \b\b/ \b\b- \b\b\\ \b\b| \b\b/ \b\b- \b\b\\ \b\b| \b\b/ \b\b- \b\b\\ \b\b| \b\b/ \b\b- \b\b\\ \b\b| \b\b/ \b\b- \b\b\\ \b\b| \b\b/ \b\b- \b\b\\ \b\b| \b\b/ \b\b- \b\b\\ \b\b| \b\b/ \b\b- \b\bdone\n",
            "Solving environment: | \b\b/ \b\b- \b\b\\ \b\b| \b\b/ \b\b- \b\b\\ \b\b| \b\b/ \b\b- \b\b\\ \b\b| \b\b/ \b\b- \b\b\\ \b\b| \b\b/ \b\b- \b\bdone\n",
            "\n",
            "## Package Plan ##\n",
            "\n",
            "  environment location: /usr/local\n",
            "\n",
            "  added / updated specs:\n",
            "    - ucsc-bedgraphtobigwig\n",
            "\n",
            "\n",
            "The following packages will be downloaded:\n",
            "\n",
            "    package                    |            build\n",
            "    ---------------------------|-----------------\n",
            "    ucsc-bedgraphtobigwig-357  |                0         972 KB  bioconda\n",
            "    ------------------------------------------------------------\n",
            "                                           Total:         972 KB\n",
            "\n",
            "The following NEW packages will be INSTALLED:\n",
            "\n",
            "  ucsc-bedgraphtobi~ bioconda/linux-64::ucsc-bedgraphtobigwig-357-0 \n",
            "\n",
            "\n",
            "\n",
            "Downloading and Extracting Packages\n",
            "                                                                        \n",
            "Preparing transaction: | \b\bdone\n",
            "Verifying transaction: - \b\bdone\n",
            "Executing transaction: | \b\bdone\n"
          ]
        }
      ]
    },
    {
      "cell_type": "code",
      "source": [
        "!wget http://archive.ubuntu.com/ubuntu/pool/main/o/openssl1.0/libssl1.0.0_1.0.2n-1ubuntu5.10_amd64.deb\n",
        "!sudo apt-get install /content/libssl1.0.0_1.0.2n-1ubuntu5.10_amd64.deb"
      ],
      "metadata": {
        "colab": {
          "base_uri": "https://localhost:8080/"
        },
        "id": "0LDfrQ0-DZ5Q",
        "outputId": "4eb73044-184b-4e2d-8d97-68b774dab205"
      },
      "execution_count": 52,
      "outputs": [
        {
          "output_type": "stream",
          "name": "stdout",
          "text": [
            "--2023-02-07 09:10:51--  http://archive.ubuntu.com/ubuntu/pool/main/o/openssl1.0/libssl1.0.0_1.0.2n-1ubuntu5.10_amd64.deb\n",
            "Resolving archive.ubuntu.com (archive.ubuntu.com)... 185.125.190.36, 185.125.190.39, 91.189.91.39, ...\n",
            "Connecting to archive.ubuntu.com (archive.ubuntu.com)|185.125.190.36|:80... connected.\n",
            "HTTP request sent, awaiting response... 200 OK\n",
            "Length: 1088952 (1.0M) [application/x-debian-package]\n",
            "Saving to: ‘libssl1.0.0_1.0.2n-1ubuntu5.10_amd64.deb.6’\n",
            "\n",
            "libssl1.0.0_1.0.2n- 100%[===================>]   1.04M  1.71MB/s    in 0.6s    \n",
            "\n",
            "2023-02-07 09:10:52 (1.71 MB/s) - ‘libssl1.0.0_1.0.2n-1ubuntu5.10_amd64.deb.6’ saved [1088952/1088952]\n",
            "\n",
            "Reading package lists... Done\n",
            "Building dependency tree       \n",
            "Reading state information... Done\n",
            "Note, selecting 'libssl1.0.0' instead of '/content/libssl1.0.0_1.0.2n-1ubuntu5.10_amd64.deb'\n",
            "libssl1.0.0 is already the newest version (1.0.2n-1ubuntu5.10).\n",
            "The following package was automatically installed and is no longer required:\n",
            "  libnvidia-common-510\n",
            "Use 'sudo apt autoremove' to remove it.\n",
            "0 upgraded, 0 newly installed, 0 to remove and 27 not upgraded.\n"
          ]
        }
      ]
    },
    {
      "cell_type": "code",
      "source": [
        "!gunzip s_8_cell.deduplicated.bedGraph.gz\n",
        "!bedGraphToBigWig  s_8_cell.deduplicated.bedGraph m.chrom.sizes cell8_methylation.bigWig\n",
        "!gunzip s_Epiblast.deduplicated.bedGraph.gz\n",
        "!bedGraphToBigWig  s_Epiblast.deduplicated.bedGraph m.chrom.sizes epiblast_methylation.bigWig\n",
        "!gunzip s_ICM.deduplicated.bedGraph.gz\n",
        "!bedGraphToBigWig  s_ICM.deduplicated.bedGraph m.chrom.sizes ICM_methylation.bigWig"
      ],
      "metadata": {
        "id": "8hd48jvpxNen"
      },
      "execution_count": 54,
      "outputs": []
    },
    {
      "cell_type": "code",
      "source": [
        "!bedtools genomecov -bg -ibam s_8_cell.deduplicated.bam -g m.chromSizes  >  s_8_cell.cover.bedGraph\n",
        "!bedtools genomecov -bg -ibam s_Epiblast.deduplicated.bam -g m.chromSizes  >  s_Epiblast.cover.bedGraph\n",
        "!bedtools genomecov -bg -ibam s_ICM.deduplicated.bam -g m.chromSizes  >  s_ICM.cover.bedGraph"
      ],
      "metadata": {
        "id": "-PjuzO0Pyky4",
        "colab": {
          "base_uri": "https://localhost:8080/"
        },
        "outputId": "2a2895a7-48bd-463d-b6cf-39174857e929"
      },
      "execution_count": 47,
      "outputs": [
        {
          "output_type": "stream",
          "name": "stdout",
          "text": [
            "\n",
            "*****\n",
            "*****WARNING: Genome (-g) files are ignored when BAM input is provided. \n",
            "*****\n",
            "\n",
            "*****\n",
            "*****WARNING: Genome (-g) files are ignored when BAM input is provided. \n",
            "*****\n",
            "\n",
            "*****\n",
            "*****WARNING: Genome (-g) files are ignored when BAM input is provided. \n",
            "*****\n"
          ]
        }
      ]
    },
    {
      "cell_type": "code",
      "source": [
        "!bedGraphToBigWig   s_8_cell.cover.bedGraph m.chrom.sizes cell8_coverage.bigWig\n",
        "!bedGraphToBigWig   s_Epiblast.cover.bedGraph m.chrom.sizes epiblast_coverage.bigWig\n",
        "!bedGraphToBigWig   s_ICM.cover.bedGraph m.chrom.sizes ICM_coverage.bigWig"
      ],
      "metadata": {
        "id": "mjoPMBuPy5ku"
      },
      "execution_count": 55,
      "outputs": []
    },
    {
      "cell_type": "code",
      "source": [
        "import pandas as pd\n",
        "import seaborn as sns\n",
        "import matplotlib.pyplot as plt"
      ],
      "metadata": {
        "id": "Nv3SXZ4Odvq6"
      },
      "execution_count": 60,
      "outputs": []
    },
    {
      "cell_type": "code",
      "source": [
        "!gunzip s_8_cell.deduplicated.bismark.cov.gz\n",
        "SRR5836473 = pd.read_csv('s_8_cell.deduplicated.bismark.cov', \n",
        "                         sep='\\t', names=['chr', 'start','stop', 'Methylation %', 'Met', 'Nonmet'])\n",
        "!gunzip s_Epiblast.deduplicated.bismark.cov.gz\n",
        "SRR3824222 = pd.read_csv('s_Epiblast.deduplicated.bismark.cov', \n",
        "                         sep='\\t', names=['chr', 'start','stop', 'Methylation %', 'Met', 'Nonmet'])\n",
        "!gunzip s_ICM.deduplicated.bismark.cov.gz\n",
        "SRR5836475 = pd.read_csv('s_ICM.deduplicated.bismark.cov', \n",
        "                         sep='\\t', names=['chr', 'start','stop', 'Methylation %', 'Met', 'Nonmet'])"
      ],
      "metadata": {
        "id": "jRMg53fzdM2o"
      },
      "execution_count": 62,
      "outputs": []
    },
    {
      "cell_type": "code",
      "source": [
        "sns.histplot(data=SRR5836473, x=\"Methylation %\", bins=20, kde=True, kde_kws={'bw_adjust': 2})\n",
        "plt.title(\"8 cell\")\n",
        "plt.savefig('8_cell.png')"
      ],
      "metadata": {
        "id": "QnQVrU_Ad08p",
        "colab": {
          "base_uri": "https://localhost:8080/",
          "height": 295
        },
        "outputId": "280fa9f9-c188-4ff8-fe82-3e76aaa9d42c"
      },
      "execution_count": 63,
      "outputs": [
        {
          "output_type": "display_data",
          "data": {
            "text/plain": [
              "<Figure size 432x288 with 1 Axes>"
            ],
            "image/png": "[encoded data removed]"
          },
          "metadata": {
            "needs_background": "light"
          }
        }
      ]
    },
    {
      "cell_type": "code",
      "source": [
        "sns.histplot(data=SRR3824222, x=\"Methylation %\", bins=20, kde=True, kde_kws={'bw_adjust': 2})\n",
        "plt.title(\"Epiblast\")\n",
        "plt.savefig('Epiblast.png')"
      ],
      "metadata": {
        "id": "ptjYn1-4d2PR",
        "colab": {
          "base_uri": "https://localhost:8080/",
          "height": 295
        },
        "outputId": "b99ea6ac-f33c-4faa-bdf5-cff20cd1c1a0"
      },
      "execution_count": 64,
      "outputs": [
        {
          "output_type": "display_data",
          "data": {
            "text/plain": [
              "<Figure size 432x288 with 1 Axes>"
            ],
            "image/png": "[encoded data removed]"
          },
          "metadata": {
            "needs_background": "light"
          }
        }
      ]
    },
    {
      "cell_type": "code",
      "source": [
        "sns.histplot(data=SRR5836475, x=\"Methylation %\", bins=20, kde=True, kde_kws={'bw_adjust': 2})\n",
        "plt.title(\"ICM\")\n",
        "plt.savefig('ICM.png')"
      ],
      "metadata": {
        "id": "NKdnAGyad5Ov",
        "colab": {
          "base_uri": "https://localhost:8080/",
          "height": 295
        },
        "outputId": "c60846de-fee5-4e57-cbc6-c3087bee6dd4"
      },
      "execution_count": 65,
      "outputs": [
        {
          "output_type": "display_data",
          "data": {
            "text/plain": [
              "<Figure size 432x288 with 1 Axes>"
            ],
            "image/png": "[encoded data removed]"
          },
          "metadata": {
            "needs_background": "light"
          }
        }
      ]
    },
    {
      "cell_type": "markdown",
      "source": [
        "### Визуализация уровня метилирования."
      ],
      "metadata": {
        "id": "NKAVF62Dck8Y"
      }
    },
    {
      "cell_type": "markdown",
      "source": [
        "Вручную создан файл tracks.ini."
      ],
      "metadata": {
        "id": "0BWdsiAFcBOn"
      }
    },
    {
      "cell_type": "code",
      "source": [
        "!pyGenomeTracks --tracks tracks.ini --region chr11:3100030-3500030 -o image_cov.png"
      ],
      "metadata": {
        "id": "iWZ3EH0XchWR",
        "colab": {
          "base_uri": "https://localhost:8080/"
        },
        "outputId": "26c7f401-6d1d-406b-8a05-16882435824e"
      },
      "execution_count": 66,
      "outputs": [
        {
          "output_type": "stream",
          "name": "stdout",
          "text": [
            "INFO:pygenometracks.tracksClass:initialize 1. [8Cell-coverage]\n",
            "INFO:pygenometracks.tracksClass:initialize 2. [8Cell-methylation]\n",
            "INFO:pygenometracks.tracksClass:initialize 3. [ICM-coverage]\n",
            "INFO:pygenometracks.tracksClass:initialize 4. [ICM-methylation]\n",
            "INFO:pygenometracks.tracksClass:initialize 5. [Epiblast-coverage]\n",
            "INFO:pygenometracks.tracksClass:initialize 6. [Epiblast-methylation]\n",
            "INFO:pygenometracks.tracksClass:time initializing track(s):\n",
            "INFO:pygenometracks.tracksClass:0.018850326538085938\n",
            "DEBUG:pygenometracks.tracksClass:Figure size in cm is 40 x 12.765957446808512. Dpi is set to 72\n",
            "\n",
            "INFO:pygenometracks.tracksClass:plotting 1. [8Cell-coverage]\n",
            "INFO:pygenometracks.tracksClass:plotting 2. [8Cell-methylation]\n",
            "INFO:pygenometracks.tracksClass:plotting 3. [ICM-coverage]\n",
            "INFO:pygenometracks.tracksClass:plotting 4. [ICM-methylation]\n",
            "INFO:pygenometracks.tracksClass:plotting 5. [Epiblast-coverage]\n",
            "INFO:pygenometracks.tracksClass:plotting 6. [Epiblast-methylation]\n"
          ]
        }
      ]
    }
  ]
}